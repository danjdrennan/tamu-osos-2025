{
 "cells": [
  {
   "cell_type": "code",
   "execution_count": null,
   "id": "a9baae66",
   "metadata": {},
   "outputs": [],
   "source": [
    "import time\n",
    "import timeit\n",
    "import matplotlib.pyplot as plt\n",
    "import numpy as np\n",
    "from scipy import linalg"
   ]
  },
  {
   "cell_type": "markdown",
   "id": "2791a5df",
   "metadata": {},
   "source": [
    "## Intro\n",
    "\n",
    "Numpy is a numerical python library implementing almost everything you would want to\n",
    "use from classical numerical linear algebra. It has a sister package that is closely\n",
    "integrated in many submodules, and here we will cover a subset of both. The plan is to\n",
    "briefly go over different data types, data layouts (arrays), functions, linear\n",
    "algebra, and random number generation. There are many other libraries in Python for\n",
    "doing deep learning which use quite similar APIs. Almost every concept we discuss in\n",
    "this module would carry over to those frameworks. Among those frameworks, PyTorch is\n",
    "the most popular deep learning framework in use today, but JAX is a terrific ecosystem\n",
    "with much tighter coupling to Numpy."
   ]
  },
  {
   "cell_type": "markdown",
   "id": "b75c70e8",
   "metadata": {},
   "source": [
    "## Data Types"
   ]
  },
  {
   "cell_type": "markdown",
   "id": "a4035ccd",
   "metadata": {},
   "source": [
    "This section covers the core data types in Numpy. These can be scalars or the \n",
    "core data types for arrays. We cover\n",
    "\n",
    "* ints \n",
    "* uints \n",
    "* floats\n",
    "* complex\n",
    "  \n",
    "We also look at type promotion in the case where different data types interact \n",
    "together. Generally the type promotion rules are that we promote lower order\n",
    "types up to the larger container. So integers will become floats and small floats\n",
    "will become big floats if that is necessary."
   ]
  },
  {
   "cell_type": "markdown",
   "id": "ea234e4f",
   "metadata": {},
   "source": [
    "### Integers\n",
    "\n",
    "Like Python provides several builtin types to represent numerical data, Numpy provides\n",
    "many of its own types. A key difference is that all of numpy's types are fixed width,\n",
    "meaning that they can overflow. For example:"
   ]
  },
  {
   "cell_type": "code",
   "execution_count": null,
   "id": "b74238aa",
   "metadata": {},
   "outputs": [],
   "source": [
    "# Create a variable i64 = np.array(1)\n"
   ]
  },
  {
   "cell_type": "markdown",
   "id": "41a69fef",
   "metadata": {},
   "source": [
    "We can also ask for unsigned versions of integers, or cast data from one type into\n",
    "another (dangerous if you aren't positive of domain restrictions). For example:"
   ]
  },
  {
   "cell_type": "code",
   "execution_count": null,
   "id": "ba005541",
   "metadata": {},
   "outputs": [],
   "source": [
    "# Create a variable u64 = i64.astype(np.uint64)\n"
   ]
  },
  {
   "cell_type": "markdown",
   "id": "a299dfb1",
   "metadata": {},
   "source": [
    "The types can sometimes lead to surprising results if we aren't careful. Unlike Python's builtin integers, these fixed-width integers can wrap around to values in unexpected ways. Here are some examples:"
   ]
  },
  {
   "cell_type": "code",
   "execution_count": null,
   "id": "24591fd9",
   "metadata": {},
   "outputs": [],
   "source": [
    "# Compare: \n",
    "\n",
    "# i64 - 2, u64 - 2\n",
    "print(f\"{}, {}\")\n",
    "\n",
    "# u64 - 2 == 2**64 - 1\n",
    "print(f\"{}\")\n",
    "\n",
    "# u64 - 2 as an int64\n",
    "print(f\"{}\")"
   ]
  },
  {
   "cell_type": "markdown",
   "id": "ccc4521a",
   "metadata": {},
   "source": [
    "The signed integer uses its first bit to indicate the sign of the number and its\n",
    "remaining 63 bits to represent the integer itself. So the range of representable\n",
    "values are $-2^{63} \\leq i_{64} < 2^{63}$. The unsigned bit does not reserve that first\n",
    "position, so we have $0 \\leq u_{64} < 2^{64}$. And as we see, integers can be recast between\n",
    "types to be interpreted differently."
   ]
  },
  {
   "cell_type": "markdown",
   "id": "716dfe80",
   "metadata": {},
   "source": [
    "Because Numpy stores integers in fixed space, we can also overflow them with undefined\n",
    "behavior. Consider now what happens when we shift the bit left by several positions:"
   ]
  },
  {
   "cell_type": "code",
   "execution_count": null,
   "id": "747bc46c",
   "metadata": {},
   "outputs": [],
   "source": [
    "# Left-shift i64 by 64 (i64 << 63)\n"
   ]
  },
  {
   "cell_type": "markdown",
   "id": "9ed8ee44",
   "metadata": {},
   "source": [
    "And although we will practically never need to *do* any of this in applications, it is\n",
    "important to at least know these things could be issues if we're not careful. And it is \n",
    "especially important to know this behavior is different from what we get from Python's \n",
    "builtin types. Integers in Python are not necessarily the same as integers in Numpy."
   ]
  },
  {
   "cell_type": "markdown",
   "id": "832bd0a8",
   "metadata": {},
   "source": [
    "### Floats"
   ]
  },
  {
   "cell_type": "markdown",
   "id": "b1307cab",
   "metadata": {},
   "source": [
    "Floating point types are a similar story. By default, Numpy stores everything in\n",
    "float64. It also aggressively promotes things internally to float64. So if we just\n",
    "create a float\n"
   ]
  },
  {
   "cell_type": "code",
   "execution_count": null,
   "id": "9c389d76",
   "metadata": {},
   "outputs": [],
   "source": [
    "# Define: f64 = np.array(1.0)\n",
    "\n",
    "\n",
    "# Print f64 and its dtype (f64.dtype)\n",
    "print()"
   ]
  },
  {
   "cell_type": "markdown",
   "id": "4651736a",
   "metadata": {},
   "source": [
    "we see it is using 64 bits. We could just as well store things in float32, in which\n",
    "case we have"
   ]
  },
  {
   "cell_type": "code",
   "execution_count": null,
   "id": "5d178bf5",
   "metadata": {},
   "outputs": [],
   "source": [
    "# Let a = 1.0 and b = 1.0 in float32\n",
    "\n",
    "\n",
    "# c = a + b\n",
    "\n",
    "\n",
    "# d = a * b\n",
    "\n",
    "# Print the values a, b, c, d\n",
    "print()\n",
    "\n",
    "# print the dtypes of a, b, c, d\n",
    "print()"
   ]
  },
  {
   "cell_type": "markdown",
   "id": "0f032d46",
   "metadata": {},
   "source": [
    "Numpy also supports complex numbers. Unless you're doing signal processing you\n",
    "probably won't find much need for these. But some of you may want to use FFTs in your\n",
    "research, in which case you will want to know that these exist and behave slightly\n",
    "differently from other data types."
   ]
  },
  {
   "cell_type": "code",
   "execution_count": null,
   "id": "e94df285",
   "metadata": {},
   "outputs": [],
   "source": [
    "# Create c64 = 1.0 + 1.0j\n",
    "\n",
    "\n",
    "# Print the value\n"
   ]
  },
  {
   "cell_type": "markdown",
   "id": "b4b2c779",
   "metadata": {},
   "source": [
    "For example, the absolute value of a complex number is actually the Euclidean distance in the\n",
    "complex plane:"
   ]
  },
  {
   "cell_type": "code",
   "execution_count": null,
   "id": "0726cfc3",
   "metadata": {},
   "outputs": [],
   "source": [
    "# Compute |c64|, the modulus of the complex variable\n",
    "\n",
    "\n",
    "# Verify this is equal to sqrt(2)"
   ]
  },
  {
   "cell_type": "markdown",
   "id": "baefb6ab",
   "metadata": {},
   "source": [
    "The full list of numpy's dtypes can be found at\n",
    "\n",
    "   [Numpy Dtypes](https://numpy.org/devdocs/user/basics.types.html)\n"
   ]
  },
  {
   "cell_type": "markdown",
   "id": "2db8139b",
   "metadata": {},
   "source": [
    "A last note: floats are imprecise approximations of the real number line. So we have"
   ]
  },
  {
   "cell_type": "code",
   "execution_count": null,
   "id": "55cfedaf",
   "metadata": {},
   "outputs": [],
   "source": [
    "# 0.1 + 0.2 in np.float64\n",
    "\n",
    "\n",
    "# Compare with standard python type\n"
   ]
  },
  {
   "cell_type": "markdown",
   "id": "a3374c1a",
   "metadata": {},
   "source": [
    "This is a consequence of implementing floats using IEEE754, which is the most common\n",
    "computational model of the real numbers. The main consequence of floating point arithmetic\n",
    "is that we cannot always guarantee an operation is going to satisfy `equality` comparisons\n",
    "as we might expect. Integers do not suffer this affliction, as the next example shows:"
   ]
  },
  {
   "cell_type": "code",
   "execution_count": null,
   "id": "e2407904",
   "metadata": {},
   "outputs": [],
   "source": [
    "# Let i64 = 1 and u64 = 1 (using the appropriate types)\n",
    "\n",
    "# Compare the integers with i64 == u64\n"
   ]
  },
  {
   "cell_type": "markdown",
   "id": "bf67793d",
   "metadata": {},
   "source": [
    "But floats are not the same story"
   ]
  },
  {
   "cell_type": "code",
   "execution_count": null,
   "id": "d3eafbdb",
   "metadata": {},
   "outputs": [],
   "source": [
    "# a = 0.1, b = 0.2, c = 0.3\n",
    "\n",
    "# Compare: a + b == c\n",
    "print()\n",
    "\n",
    "# Compare: np.isclose(a + b, c)\n",
    "print()"
   ]
  },
  {
   "cell_type": "markdown",
   "id": "acb2ab02",
   "metadata": {},
   "source": [
    "In floating point, we have to instead ask *are these two things close*?"
   ]
  },
  {
   "cell_type": "markdown",
   "id": "5b338f98",
   "metadata": {},
   "source": [
    "## Data Layouts (Arrays)"
   ]
  },
  {
   "cell_type": "markdown",
   "id": "2ce7bbe9",
   "metadata": {},
   "source": [
    "Topics:\n",
    "\n",
    "- scalars\n",
    "- vectors\n",
    "- matrices\n",
    "- tensors\n",
    "- reshaping\n",
    "- broadcasting"
   ]
  },
  {
   "cell_type": "markdown",
   "id": "91e15a6d",
   "metadata": {},
   "source": [
    "The reason we use Numpy isn't really to work on scalars. It's because we want to\n",
    "use container types like n-dimensional arrays. We use numpy when we want to do matrix\n",
    "math, or just to make some analysis in Python go faster than default Python.\n",
    "\n",
    "A good starter is to look at the arange object. Python has `range(start, stop, step)`\n",
    "objects. Numpy has `arange(start, stop, step)` objects. Note in both cases that we\n",
    "use half open intervals [start, stop)."
   ]
  },
  {
   "cell_type": "code",
   "execution_count": null,
   "id": "e0bbf49a",
   "metadata": {},
   "outputs": [],
   "source": [
    "# Create an arange equivalent to np.arange(0, 10, 1)\n",
    "\n"
   ]
  },
  {
   "cell_type": "markdown",
   "id": "2a399ce2",
   "metadata": {},
   "source": [
    "These arrays are zero-indexed. The first element is accessed at arange[0], like:"
   ]
  },
  {
   "cell_type": "code",
   "execution_count": null,
   "id": "1ac908d6",
   "metadata": {},
   "outputs": [],
   "source": [
    "# Index into the first element of `arange`\n"
   ]
  },
  {
   "cell_type": "markdown",
   "id": "44869ba4",
   "metadata": {},
   "source": [
    "Unlike Python's range object, our numpy arange supports instantiation by float. So the\n",
    "following are equivalent:"
   ]
  },
  {
   "cell_type": "code",
   "execution_count": null,
   "id": "47ba6617",
   "metadata": {},
   "outputs": [],
   "source": [
    "# Initialize `aranged = np.arange(10)` using floats\n",
    "aranged = \n",
    "\n",
    "# Use type coercion to do the same (showing we can elide this step)\n",
    "arange_double = \n",
    "\n",
    "# Compare the two values"
   ]
  },
  {
   "cell_type": "markdown",
   "id": "f5f3c309",
   "metadata": {},
   "source": [
    "We compared the last two arrays by printing and looking at them. But we can actually\n",
    "use comparison operators for the same purpose:"
   ]
  },
  {
   "cell_type": "code",
   "execution_count": null,
   "id": "4c0846e0",
   "metadata": {},
   "outputs": [],
   "source": [
    "# Compare:\n",
    "\n",
    "# aranged < arange_double\n",
    "print()"
   ]
  },
  {
   "cell_type": "code",
   "execution_count": null,
   "id": "4f94e889",
   "metadata": {},
   "outputs": [],
   "source": [
    "# aranged == arange_double\n",
    "print()"
   ]
  },
  {
   "cell_type": "code",
   "execution_count": null,
   "id": "bfde69fa",
   "metadata": {},
   "outputs": [],
   "source": [
    "# aranged > arange_double\n",
    "print()"
   ]
  },
  {
   "cell_type": "markdown",
   "id": "20a7a1e0",
   "metadata": {},
   "source": [
    "What happened here? Numpy does comparisons elementwise by _broadcasting_. We will\n",
    "discuss broadcasting more momentarily. If we wanted to know if all of the elements\n",
    "were the same, we could wrap the last comparison like so"
   ]
  },
  {
   "cell_type": "code",
   "execution_count": null,
   "id": "d6ad09ae",
   "metadata": {},
   "outputs": [],
   "source": [
    "# Now get a single bool using `np.all` for aranged == arange_double:\n",
    "np.all()"
   ]
  },
  {
   "cell_type": "markdown",
   "id": "47f90a64",
   "metadata": {},
   "source": [
    "Or if we wondered if any of the elements matched, we could instead ask"
   ]
  },
  {
   "cell_type": "code",
   "execution_count": null,
   "id": "fe842bef",
   "metadata": {},
   "outputs": [],
   "source": [
    "# We could have used `np.any` instead\n",
    "np.any()"
   ]
  },
  {
   "cell_type": "markdown",
   "id": "aabcbd66",
   "metadata": {},
   "source": [
    "These comparisons may take some practice to get used to, but they become intuitive\n",
    "over time (I promise!).\n",
    "\n",
    "Another thing to be cognizant of is type promotion. Numpy _really likes to work in\n",
    "float64_. And any time we combine data from different types, Numpy will promote to the\n",
    "largest type necessary to store the results."
   ]
  },
  {
   "cell_type": "code",
   "execution_count": null,
   "id": "5837d96f",
   "metadata": {},
   "outputs": [],
   "source": [
    "arangef = np.arange(10.0, dtype=np.float32)\n",
    "aranged = np.arange(10.0, dtype=np.float64)\n",
    "\n",
    "# What is the type of arangef + arangef?\n",
    "print(().dtype)\n",
    "\n",
    "# What is the type of arangef + aranged?\n",
    "print(().dtype)"
   ]
  },
  {
   "cell_type": "markdown",
   "id": "b554a0e6",
   "metadata": {},
   "source": [
    "A last thing we want to discuss before looking at larger array types is broadcasting.\n",
    "We saw with comparisons that numpy does elementwise comparison. The same is true if we\n",
    "compare our scalars with our vectors."
   ]
  },
  {
   "cell_type": "code",
   "execution_count": null,
   "id": "ee13727e",
   "metadata": {},
   "outputs": [],
   "source": [
    "# Create i64 = 5\n",
    "i64 = np.array()\n",
    "\n",
    "# Create arange = np.arange(10)\n",
    "arange = np.arange()\n",
    "\n",
    "# Compare arange == i64\n"
   ]
  },
  {
   "cell_type": "code",
   "execution_count": null,
   "id": "1ebf6a2e",
   "metadata": {},
   "outputs": [],
   "source": [
    "# What is np.all() give?\n",
    "np.all(arange == i64)"
   ]
  },
  {
   "cell_type": "code",
   "execution_count": null,
   "id": "bf3a90df",
   "metadata": {},
   "outputs": [],
   "source": [
    "# What does np.any give?\n",
    "np.any(arange == i64)"
   ]
  },
  {
   "cell_type": "markdown",
   "id": "dbb1eeb0",
   "metadata": {},
   "source": [
    "Or if we want to know where two things are equal, we can just ask:"
   ]
  },
  {
   "cell_type": "code",
   "execution_count": null,
   "id": "e0206869",
   "metadata": {},
   "outputs": [],
   "source": [
    "# np.where:\n",
    "np.where()"
   ]
  },
  {
   "cell_type": "markdown",
   "id": "013330ec",
   "metadata": {},
   "source": [
    "This returns an index of all of the places where two things are equal. Often, however\n",
    "we want to know this so that we can replace some set of values with another set of\n",
    "values. For example, we typically use `np.where` to replace writing a code snippet like\n",
    "\n",
    "```python\n",
    "for i in range(10):\n",
    "    if arange[i] == i64:    # conditional\n",
    "        arange[i] = 1       # true vals\n",
    "    else:\n",
    "        arange[i] = 0       # false vals\n",
    "```\n",
    "\n",
    "And doing that in `np.where`, we have \n",
    "\n",
    "```python\n",
    "np.where(conditional, true_vals, false_vals)\n",
    "```"
   ]
  },
  {
   "cell_type": "code",
   "execution_count": null,
   "id": "6e272b34",
   "metadata": {},
   "outputs": [],
   "source": [
    "# Compute np.where(cond, true_vals, false_vals)\n",
    "# NOTE: Do not overwrite the buffer, just print\n"
   ]
  },
  {
   "cell_type": "markdown",
   "id": "c39e25f4",
   "metadata": {},
   "source": [
    "### Broadcasting\n",
    "\n",
    "One of the great features of numpy is its declarative syntax, which includes\n",
    "broadcasting of results when the shapes don't match but have compatible dimensions\n",
    "somehow. Here are a few examples to try:"
   ]
  },
  {
   "cell_type": "code",
   "execution_count": null,
   "id": "be6c40e5",
   "metadata": {},
   "outputs": [],
   "source": [
    "# Define\n",
    "arange = np.arange()\n",
    "\n",
    "# Broadcasting addition\n",
    "arange + 5"
   ]
  },
  {
   "cell_type": "code",
   "execution_count": null,
   "id": "9aa550ef",
   "metadata": {},
   "outputs": [],
   "source": [
    "# Multiplication\n",
    "arange * 5"
   ]
  },
  {
   "cell_type": "code",
   "execution_count": null,
   "id": "a4d38445",
   "metadata": {},
   "outputs": [],
   "source": [
    "# Division\n",
    "arange / 5"
   ]
  },
  {
   "cell_type": "code",
   "execution_count": null,
   "id": "1241080a",
   "metadata": {},
   "outputs": [],
   "source": [
    "# Integer division\n",
    "arange // 5"
   ]
  },
  {
   "cell_type": "markdown",
   "id": "f7470247",
   "metadata": {},
   "source": [
    "### Reshaping arrays\n",
    "\n",
    "Another wonderful feature of numpy arrays is that the shapes\n",
    "are *mutable*. We can reshape things in any way we like to get\n",
    "a more meaningful representation of our data:"
   ]
  },
  {
   "cell_type": "code",
   "execution_count": null,
   "id": "786e0155",
   "metadata": {},
   "outputs": [],
   "source": [
    "# Create a 2x5 array \n",
    "arange = np.arange().reshape()\n",
    "arange"
   ]
  },
  {
   "cell_type": "markdown",
   "id": "ee5d0bb5",
   "metadata": {},
   "source": [
    "Above we provided both dimensions explicitly, but we can also provide them\n",
    "implicitly, like so:"
   ]
  },
  {
   "cell_type": "code",
   "execution_count": null,
   "id": "e3c7af53",
   "metadata": {},
   "outputs": [],
   "source": [
    "# Repeat, but only specify one dim\n",
    "arange = np.arange().reshape()\n",
    "arange"
   ]
  },
  {
   "cell_type": "markdown",
   "id": "d678e673",
   "metadata": {},
   "source": [
    "We can make the arrays longer and reshape them into any configuration we like:"
   ]
  },
  {
   "cell_type": "code",
   "execution_count": null,
   "id": "81e1cc67",
   "metadata": {},
   "outputs": [],
   "source": [
    "# Make a tensor with shape (2, 3, 5, 7)\n",
    "arange = np.arange().reshape()\n",
    "arange"
   ]
  },
  {
   "cell_type": "markdown",
   "id": "10c47a0d",
   "metadata": {},
   "source": [
    "### Array Metadata"
   ]
  },
  {
   "cell_type": "markdown",
   "id": "2f895f85",
   "metadata": {},
   "source": [
    "Arrays come with metadata: We can query the amount of storage used for the array, its\n",
    "shape, and the dtype (as we saw with scalars):"
   ]
  },
  {
   "cell_type": "code",
   "execution_count": null,
   "id": "95c0da62",
   "metadata": {},
   "outputs": [],
   "source": [
    "# Print the following:\n",
    "\n",
    "# nbytes\n",
    "\n",
    "# shape \n",
    "\n",
    "# dtype"
   ]
  },
  {
   "cell_type": "markdown",
   "id": "45fa46a1",
   "metadata": {},
   "source": [
    "Data can be reshaped in whatever way we want, and again we can query the new arrays\n",
    "to learn what the shape and data types are. In most cases it is probably clear from\n",
    "context what we want to use or do"
   ]
  },
  {
   "cell_type": "code",
   "execution_count": null,
   "id": "e175bfad",
   "metadata": {},
   "outputs": [],
   "source": [
    "# Reshape: arange (2, 3, 5, 7) -> (5, 2, 3, 7)\n",
    "arange_reshaped = \n",
    "\n",
    "# Print nbytes\n",
    "\n",
    "# Print shape \n",
    "\n",
    "# Print dtype\n",
    "\n",
    "# Print data\n"
   ]
  },
  {
   "cell_type": "markdown",
   "id": "f06d2708",
   "metadata": {},
   "source": [
    "### Array Slicing"
   ]
  },
  {
   "cell_type": "markdown",
   "id": "36feb0b6",
   "metadata": {},
   "source": [
    "Finally, we can take subsets of data in the same way as we slice any other object in\n",
    "Python; some examples:"
   ]
  },
  {
   "cell_type": "code",
   "execution_count": null,
   "id": "ab211915",
   "metadata": {},
   "outputs": [],
   "source": [
    "arange = np.arange(10.0)\n",
    "\n",
    "# slice elements 3:6 of arange\n"
   ]
  },
  {
   "cell_type": "code",
   "execution_count": null,
   "id": "5e862502",
   "metadata": {},
   "outputs": [],
   "source": [
    "# Slice the first four elements of arange\n"
   ]
  },
  {
   "cell_type": "code",
   "execution_count": null,
   "id": "aa767bfd",
   "metadata": {},
   "outputs": [],
   "source": [
    "# Slice from index 7 to the end of the array\n"
   ]
  },
  {
   "cell_type": "code",
   "execution_count": null,
   "id": "6e6fea44",
   "metadata": {},
   "outputs": [],
   "source": [
    "# Slice the last four elements of arange\n"
   ]
  },
  {
   "cell_type": "markdown",
   "id": "5945c865",
   "metadata": {},
   "source": [
    "### Initializing Data\n",
    "\n",
    "There are several ways in which we may want to create new arrays aside from the ones\n",
    "shown. Some of these are with pseudo-random numbers, which we'll get to in a moment.\n",
    "But there are several deterministic sequences we may want to create, like"
   ]
  },
  {
   "cell_type": "code",
   "execution_count": null,
   "id": "9fd47d4c",
   "metadata": {},
   "outputs": [],
   "source": [
    "# Generate a 3x3 empty matrix\n"
   ]
  },
  {
   "cell_type": "code",
   "execution_count": null,
   "id": "544a46c2",
   "metadata": {},
   "outputs": [],
   "source": [
    "# Generate a 3x3 zeros matrix\n"
   ]
  },
  {
   "cell_type": "code",
   "execution_count": null,
   "id": "a89dee2d",
   "metadata": {},
   "outputs": [],
   "source": [
    "# Generate a 3x3 ones matrix\n"
   ]
  },
  {
   "cell_type": "markdown",
   "id": "cc80a667",
   "metadata": {},
   "source": [
    "Here are a few more variations to try:"
   ]
  },
  {
   "cell_type": "code",
   "execution_count": null,
   "id": "d5af4832",
   "metadata": {},
   "outputs": [],
   "source": [
    "# Generate a sequence 0, 2, 4, ..., 30 using the arange function\n",
    "# Note its signature: np.arange(start, stop, step)\n"
   ]
  },
  {
   "cell_type": "code",
   "execution_count": null,
   "id": "fc5bd041",
   "metadata": {},
   "outputs": [],
   "source": [
    "# Generate a sequence 0.00, 0.01, ..., 0.98, 0.99, 1.00\n",
    "# Recall np.arange(start, stop, step) allows floats!\n"
   ]
  },
  {
   "cell_type": "code",
   "execution_count": null,
   "id": "e166f3b4",
   "metadata": {},
   "outputs": [],
   "source": [
    "# Generate the same sequence [0.00, 0.01, ..., 0.99, 1.00] using the\n",
    "# np.linspace(start, stop, num) function\n"
   ]
  },
  {
   "cell_type": "markdown",
   "id": "12922148",
   "metadata": {},
   "source": [
    "We can also index into arrays by conditional statements, as follows\n",
    "(note this is related to the `np.where` functions from before):"
   ]
  },
  {
   "cell_type": "code",
   "execution_count": null,
   "id": "be5b6d99",
   "metadata": {},
   "outputs": [],
   "source": [
    "# Query: arange > 4\n"
   ]
  },
  {
   "cell_type": "code",
   "execution_count": null,
   "id": "cc617bda",
   "metadata": {},
   "outputs": [],
   "source": [
    "# Query: not (arange > 4) using ~\n"
   ]
  },
  {
   "cell_type": "markdown",
   "id": "90c37cc2",
   "metadata": {},
   "source": [
    "### Stacking data\n",
    "\n",
    "The last major thing to do with arrays is to stack them in various ways.\n",
    "There are several functions for doing this. I personally like to stick\n",
    "to `np.concatenate` when I want to extend one array with another, and \n",
    "`np.stack` if I want to do anything else."
   ]
  },
  {
   "cell_type": "code",
   "execution_count": null,
   "id": "5a78d52c",
   "metadata": {},
   "outputs": [],
   "source": [
    "x = np.linspace(0, 1, 20)\n",
    "\n",
    "# Concatenate x with x\n",
    "concat = np.concatenate(...)\n",
    "print(concat.shape)\n",
    "\n",
    "concat"
   ]
  },
  {
   "cell_type": "code",
   "execution_count": null,
   "id": "49a2a1b1",
   "metadata": {},
   "outputs": [],
   "source": [
    "# Vertically stack\n",
    "vstack = np.stack(..., axis=...)\n",
    "\n",
    "# Print the shape and values\n",
    "print(vstack.shape)\n",
    "vstack"
   ]
  },
  {
   "cell_type": "code",
   "execution_count": null,
   "id": "1da96347",
   "metadata": {},
   "outputs": [],
   "source": [
    "# Horizontally stack \n",
    "hstack = np.stack(..., axis=...)\n",
    "print(hstack.shape)\n",
    "hstack"
   ]
  },
  {
   "cell_type": "markdown",
   "id": "d51521f8",
   "metadata": {},
   "source": [
    "Or use these, but it's simpler to remember one function than it is to remember two or\n",
    "three, so I prefer stack with an argument about how I want to stack things.\n",
    "\n",
    "```python\n",
    "vstack = np.vstack([x, x])\n",
    "hstack = np.hstack([x[:, None], x[:, None]])\n",
    "```"
   ]
  },
  {
   "cell_type": "markdown",
   "id": "17894f16",
   "metadata": {},
   "source": [
    "## Random Numbers"
   ]
  },
  {
   "cell_type": "markdown",
   "id": "ad17dd74",
   "metadata": {},
   "source": [
    "We present this module next because it is imperative to generating data in the\n",
    "subsequent sections, so that we can work on less contrived examples than the ones we\n",
    "have already seen."
   ]
  },
  {
   "cell_type": "markdown",
   "id": "deaad56e",
   "metadata": {},
   "source": [
    "### Random Seeds\n",
    "\n",
    "We don't have to set random seeds, but it makes our analysis reproducible if we\n",
    "implement something and want it to run deterministically. Everything we explore today\n",
    "will be seeded. \n",
    "\n",
    "The right practice is to set seeds once at the start of a program and\n",
    "then execute the program sequentially from start to finish. You will notice if you run\n",
    "cells multiple times after setting the seed that the results become apparently random.\n",
    "This is one of the primary reasons to strive for running stuff in scripts rather than\n",
    "jupyter notebooks. That is a point that will be difficult to get across by the end of\n",
    "the workshop, but it is one to consider if you continue to work in Python after this\n",
    "workshop. For today, however, we are going to work in Jupyter notebooks because they\n",
    "are interactive and nice for exploratory work.\n",
    "\n",
    "The seed itself could be lots of things, including an empty argument. I always start\n",
    "with a concrete value... Most of my test scripts start with seed 0. If you want to\n",
    "have random but reproducible behavior, a better seed is to just grab the system time\n",
    "in nanoseconds at program startup, like this:"
   ]
  },
  {
   "cell_type": "code",
   "execution_count": null,
   "id": "d28cc094",
   "metadata": {},
   "outputs": [],
   "source": [
    "# Get time in nanoseconds\n",
    "\n",
    "\n",
    "# Print the seed (decimal and hex)\n",
    "print(f\"{seed = }, (in hex: 0x{seed:x})\")\n",
    "\n",
    "# Create a Random Number Generator (rng) object with the seed\n",
    "rng = "
   ]
  },
  {
   "cell_type": "markdown",
   "id": "fe54c81d",
   "metadata": {},
   "source": [
    "**But don't forget to save it when you're done!**\n",
    "\n",
    "\n",
    "If we save that seed someplace then we can always reconstruct the program's execution\n",
    "using the seeded value. This is *immensely* helpful for debugging programs that rely\n",
    "on random number generation!\n",
    "\n",
    "The random number generator supports generating all kinds of different distributions.\n",
    "Here are some of them:"
   ]
  },
  {
   "cell_type": "code",
   "execution_count": null,
   "id": "7497c2a4",
   "metadata": {},
   "outputs": [],
   "source": [
    "# Make three subplots with shape (1, 3), a large enough figsize to plot, and constrained layout\n",
    "fig, ax = plt.subplots(1, 3, figsize=(12, 3), layout=\"constrained\")\n",
    "\n",
    "# Generate 500 normal rvs and plot in ax[0]\n",
    "normal_rvs = \n",
    "\n",
    "ax[0].hist(normal_rvs, density=True, edgecolor=\"C0\", facecolor=\"lightblue\")\n",
    "ax[0].set_title(\"X ~ N(0, 1)\")\n",
    "\n",
    "# Generate 500 uniform rvs and plot in ax[1]\n",
    "uniform_rvs = \n",
    "\n",
    "ax[1].hist(uniform_rvs, density=True, edgecolor=\"C0\", facecolor=\"lightblue\")\n",
    "ax[1].set_title(\"Y ~ U(0, 1)\")\n",
    "\n",
    "# Generate 500 gamma rvs with shape 5.0 and scale 3.0 and plot in ax[2]\n",
    "gamma_rvs = \n",
    "\n",
    "ax[2].hist(gamma_rvs, density=True, edgecolor=\"C0\", facecolor=\"lightblue\")\n",
    "ax[2].set_title(\"Z ~ Gamma(5.0, 3.0)\")\n",
    "\n",
    "# Show the results\n",
    "plt.show()"
   ]
  },
  {
   "cell_type": "markdown",
   "id": "46eb7b91",
   "metadata": {},
   "source": [
    "There are also great helpers for randomly permuting data, like so:"
   ]
  },
  {
   "cell_type": "code",
   "execution_count": null,
   "id": "ce4e5c02",
   "metadata": {},
   "outputs": [],
   "source": [
    "# permute `normal_rvs[:10]`\n",
    "normal_rvs_perm = rng.permutation(..., axis=)\n",
    "\n",
    "# Compare the two vectors\n",
    "print(normal_rvs[:10])\n",
    "print(normal_rvs_perm[:10])"
   ]
  },
  {
   "cell_type": "markdown",
   "id": "323f47c9",
   "metadata": {},
   "source": [
    "If we wanted to permute *all* of our data by the same index, we could also\n",
    "generate the permutation over the index 0..500:"
   ]
  },
  {
   "cell_type": "code",
   "execution_count": null,
   "id": "7a5aca0b",
   "metadata": {},
   "outputs": [],
   "source": [
    "# Generate a permutation array of 20 elements\n",
    "permutation = rng.permutation()\n",
    "permutation"
   ]
  },
  {
   "cell_type": "markdown",
   "id": "d9f5e07a",
   "metadata": {},
   "source": [
    "Now we could reindex all three vectors by this index. This is great for data splitting in several machine learning contexts.\n",
    "\n",
    "A similar choice for doing the same thing is to use `rng.choice` (`np.random.choice`). The benefit of `rng.choice` is that it \n",
    "allows you to set the probability of drawing each datum and it allows repeated draws of the same data. Bootstrapped confidence\n",
    "are an example of where this is good to know."
   ]
  },
  {
   "cell_type": "code",
   "execution_count": null,
   "id": "02115455",
   "metadata": {},
   "outputs": [],
   "source": [
    "# Generate a sample using rng.choice\n",
    "sample_idx = rng.choice(20, size=10, replace=False)\n",
    "print(sample_idx)"
   ]
  },
  {
   "cell_type": "markdown",
   "id": "7e3069be",
   "metadata": {},
   "source": [
    "As with the permutations, we can also just shuffle data in this way directly:"
   ]
  },
  {
   "cell_type": "code",
   "execution_count": null,
   "id": "23996dac",
   "metadata": {},
   "outputs": [],
   "source": [
    "# Resample the data using rng.choice\n",
    "normal_rvs_sample = rng.choice(normal_rvs[:20], size=30, replace=True)\n",
    "\n",
    "plt.plot(normal_rvs[:20], \".\")\n",
    "plt.plot(normal_rvs_sample, \".\")\n",
    "plt.show()"
   ]
  },
  {
   "cell_type": "markdown",
   "id": "a7634a88",
   "metadata": {},
   "source": [
    "And if what we want to do is genuinely randomizing the order of data, we can\n",
    "call `rng.shuffle` (`np.random.shuffle`):"
   ]
  },
  {
   "cell_type": "code",
   "execution_count": null,
   "id": "c506b1f1",
   "metadata": {},
   "outputs": [],
   "source": [
    "# Simulate a deck of cards:\n",
    "deck = \n",
    "\n",
    "# Shuffle the deck (done in place rather than returning a copy):\n",
    "rng.shuffle(...)\n",
    "\n",
    "# Print\n",
    "deck"
   ]
  },
  {
   "cell_type": "markdown",
   "id": "9e55da9d",
   "metadata": {},
   "source": [
    "## Functions"
   ]
  },
  {
   "cell_type": "markdown",
   "id": "08b4cf0b",
   "metadata": {},
   "source": [
    "We have already seen several functions. This is a short tour of the more obvious ones that we\n",
    "didn't cover yet."
   ]
  },
  {
   "cell_type": "markdown",
   "id": "108855ff",
   "metadata": {},
   "source": [
    "### Reductions and Summary Statistics\n",
    "\n",
    "Since we just looked at random data, let's start the overview of functions by looking at \n",
    "summary statistics."
   ]
  },
  {
   "cell_type": "code",
   "execution_count": null,
   "id": "a68fc07d",
   "metadata": {},
   "outputs": [],
   "source": [
    "# Generate X ~ N(0, 1) with size (100, 30, 5)\n",
    "x = "
   ]
  },
  {
   "cell_type": "markdown",
   "id": "9b40a3a3",
   "metadata": {},
   "source": [
    "To start, some functions are bound to the variables we are working with. For example,\n",
    "we can calculate the mean, variance (var), standard deviation (std), minimum (min),\n",
    "maximum (max), index of the min (argmin), and index of the max (argmax) using those\n",
    "functions bound to the numpy namespace _or_ bound to the array objects themselves."
   ]
  },
  {
   "cell_type": "code",
   "execution_count": null,
   "id": "f2723102",
   "metadata": {},
   "outputs": [],
   "source": [
    "# Compare: np.mean(x) and x.mean()\n"
   ]
  },
  {
   "cell_type": "code",
   "execution_count": null,
   "id": "1cd2156d",
   "metadata": {},
   "outputs": [],
   "source": [
    "# Compare: np.var(x) and x.var()\n"
   ]
  },
  {
   "cell_type": "code",
   "execution_count": null,
   "id": "10549827",
   "metadata": {},
   "outputs": [],
   "source": [
    "# Compare: np.std(x) and x.std()\n"
   ]
  },
  {
   "cell_type": "code",
   "execution_count": null,
   "id": "da955b1a",
   "metadata": {},
   "outputs": [],
   "source": [
    "# Compare: np.min(x) and x.min()\n"
   ]
  },
  {
   "cell_type": "code",
   "execution_count": null,
   "id": "1f77c6e9",
   "metadata": {},
   "outputs": [],
   "source": [
    "# Compare: np.max(x) and x.max()\n"
   ]
  },
  {
   "cell_type": "code",
   "execution_count": null,
   "id": "d607ff1d",
   "metadata": {},
   "outputs": [],
   "source": [
    "# argmin\n"
   ]
  },
  {
   "cell_type": "code",
   "execution_count": null,
   "id": "195cadcf",
   "metadata": {},
   "outputs": [],
   "source": [
    "# argmax\n"
   ]
  },
  {
   "cell_type": "markdown",
   "id": "51dac398",
   "metadata": {},
   "source": [
    "We can also apply these functions over specific axes. This operation will reduce the\n",
    "shape of the array along that dimension, which is avoidable if we use `keepdims=True`.\n",
    "Often that is unnecessary."
   ]
  },
  {
   "cell_type": "code",
   "execution_count": null,
   "id": "3d63236b",
   "metadata": {},
   "outputs": [],
   "source": [
    "# Calculate summary stats along different axes and note the shapes/values\n",
    "print(f\"Calculating means for {x.shape=} along different axes\")\n",
    "\n",
    "# For axis dim 0, 1, 2, compute and print:\n",
    "# np.mean(..., axis= ).shape\n",
    "\n",
    "\n"
   ]
  },
  {
   "cell_type": "markdown",
   "id": "7f3db111",
   "metadata": {},
   "source": [
    "### Other functions"
   ]
  },
  {
   "cell_type": "markdown",
   "id": "99ec9941",
   "metadata": {},
   "source": [
    "But statistics aren't the only functions we may want to compute. Here is a plot of\n",
    "sines, cosines, polynomials, and some of the other things you may generally want."
   ]
  },
  {
   "cell_type": "code",
   "execution_count": null,
   "id": "d3bb1553",
   "metadata": {},
   "outputs": [],
   "source": [
    "# define x on (0, 8] with 100 valus\n",
    "x = np.linspace(1e-16, 8.0, 100)\n",
    "\n",
    "# Make a 2,4 array of subplots:\n",
    "fig, axes = plt.subplots(2, 4, figsize=(8, 4), layout=\"constrained\", sharex=True)\n",
    "ax = axes.flatten()\n",
    "\n",
    "# sin(x)\n",
    "ax[0].plot()\n",
    "ax[0].set_title(\"sin(x)\")\n",
    "\n",
    "# cos(x)\n",
    "ax[1].plot()\n",
    "ax[1].set_title(\"cos(x)\")\n",
    "\n",
    "# tan(x)\n",
    "ax[2].plot()\n",
    "ax[2].set_title(\"tan(x)\")\n",
    "\n",
    "# square(x)\n",
    "ax[3].plot()\n",
    "ax[3].set_title(\"$x^2$\")\n",
    "\n",
    "# cube(x)\n",
    "ax[4].plot()\n",
    "ax[4].set_title(\"$x^3$\")\n",
    "\n",
    "# sqrt(x)\n",
    "ax[5].plot()\n",
    "ax[5].set_title(\"$\\\\sqrt{x}$\")\n",
    "\n",
    "# log(x)\n",
    "ax[6].plot()\n",
    "ax[6].set_title(\"log(x)\")\n",
    "\n",
    "# exp(x)\n",
    "ax[7].plot()\n",
    "ax[7].set_title(\"exp(x)\")\n",
    "\n",
    "fig.suptitle(\"A Sample of Numpy functions to calculate\")\n",
    "plt.show()\n"
   ]
  },
  {
   "cell_type": "markdown",
   "id": "d51b2f26",
   "metadata": {},
   "source": [
    "And of course, all of the other operations you'd expect to work do work. They operate element-wise on data:"
   ]
  },
  {
   "cell_type": "code",
   "execution_count": null,
   "id": "605e9a24",
   "metadata": {},
   "outputs": [],
   "source": [
    "# Generate some small x (~20)\n",
    "x = \n",
    "\n",
    "# Define y = sin(x)\n",
    "y = \n",
    "\n",
    "# View\n",
    "np.sqrt(x) + 5 * y**2 / 3 + 2"
   ]
  },
  {
   "cell_type": "markdown",
   "id": "65172e9d",
   "metadata": {},
   "source": [
    "## Linear Algebra"
   ]
  },
  {
   "cell_type": "markdown",
   "id": "7a2c2593",
   "metadata": {},
   "source": [
    "And now for the thing Numpy really shines at (other than random number generation), linear algebra!"
   ]
  },
  {
   "cell_type": "markdown",
   "id": "e7967859",
   "metadata": {},
   "source": [
    "We can warm up with the dot product:\n",
    "$$\n",
    "    \\langle u, v \\rangle = u \\cdot v = \\sum_{k=1}^{n} u_i v_i.\n",
    "$$"
   ]
  },
  {
   "cell_type": "code",
   "execution_count": null,
   "id": "5d87fc50",
   "metadata": {},
   "outputs": [],
   "source": [
    "# Generate u, v ~ N(0, 1) of size 30\n",
    "u, v = rng.normal(size=(..., ...))\n",
    "\n",
    "# Compute the dot product between u and v\n",
    "np.dot(u, v)\n",
    "\n",
    "# NOTE: We can compute this as u.dot(v) also"
   ]
  },
  {
   "cell_type": "markdown",
   "id": "2770f6a5",
   "metadata": {},
   "source": [
    "Next we can solve linear systems of the form $A x = b$. Consider the system\n",
    "$$\n",
    "    \\begin{bmatrix}\n",
    "        0 & 1 & 2 \\\\\n",
    "        1 & 4 & 2 \\\\\n",
    "        2 & 1 & 1 \\\\\n",
    "    \\end{bmatrix}\n",
    "    x = \n",
    "    \\begin{bmatrix}\n",
    "        8 \\\\ 15 \\\\ 7\n",
    "    \\end{bmatrix}.\n",
    "$$\n",
    "We'd like to solve this for $x$. The function `np.linalg.solve` does this for us straight away using an LU solve\n",
    "under the hood."
   ]
  },
  {
   "cell_type": "code",
   "execution_count": null,
   "id": "bc9f9cd5",
   "metadata": {},
   "outputs": [],
   "source": [
    "A = np.array(\n",
    "    [\n",
    "        [0, 1, 2],\n",
    "        [1, 4, 2],\n",
    "        [2, 1, 1],\n",
    "    ],\n",
    ")\n",
    "\n",
    "x = np.array([1, 2, 3])\n",
    "b = np.dot(A, x)\n",
    "\n",
    "A, x, b"
   ]
  },
  {
   "cell_type": "code",
   "execution_count": null,
   "id": "c10b4322",
   "metadata": {},
   "outputs": [],
   "source": [
    "# Solve for x_solved using np.linalg.solve\n",
    "x_solved = \n",
    "\n",
    "# Calc norm of the difference x_solved - x\n",
    "norm = np.linalg.norm(___ - ___)\n",
    "\n",
    "# Print the norm\n",
    "print(f\"||x_solved - x|| = {_____:.4f}\")"
   ]
  },
  {
   "cell_type": "markdown",
   "id": "45e1f68d",
   "metadata": {},
   "source": [
    "Some of you will have problems where the matrix has special structure (whether\n",
    "you are initially aware of this or not). When such structure does exist, you can often\n",
    "exploit it in the solver you are using. For example, here is a circulant embeddings\n",
    "matrix. "
   ]
  },
  {
   "cell_type": "code",
   "execution_count": null,
   "id": "81a4872b",
   "metadata": {},
   "outputs": [],
   "source": [
    "# Generate a sequence of length 500\n",
    "c = np.arange(...)\n",
    "\n",
    "# Use linalg.circulant(c)\n",
    "A = \n",
    "\n",
    "# Generate X ~ N(0, 1) multiplying with A\n",
    "\n",
    "\n",
    "# Define b = A x\n"
   ]
  },
  {
   "cell_type": "markdown",
   "id": "6aef11aa",
   "metadata": {},
   "source": [
    "Now let's compare the time it takes to solve these using the generalized `np.linalg.solve` versus Scipy's \n",
    "specialized `scipy.linalg.solve_circulant`. "
   ]
  },
  {
   "cell_type": "code",
   "execution_count": null,
   "id": "23d21454",
   "metadata": {},
   "outputs": [],
   "source": [
    "%%timeit\n",
    "\n",
    "# Solve with np.linalg.solve\n",
    "linalg.solve(A, b)"
   ]
  },
  {
   "cell_type": "code",
   "execution_count": null,
   "id": "40fd430e",
   "metadata": {},
   "outputs": [],
   "source": [
    "%%timeit \n",
    "\n",
    "# Solve with linalg.solve_circulant. \n",
    "# NOTE: solve_circulant uses the first column of A only with signature\n",
    "# linalg.solve_circulant(c, b)\n",
    "linalg.solve_circulant(A[:, 0], b)"
   ]
  },
  {
   "cell_type": "markdown",
   "id": "76eba637",
   "metadata": {},
   "source": [
    "That's roughly a 10x speedup!"
   ]
  },
  {
   "cell_type": "markdown",
   "id": "4504cf2f",
   "metadata": {},
   "source": [
    "### Matrix Decompositions\n",
    "\n",
    "There are several decompositions that are also supported in np.linalg and scipy.linalg\n",
    "(imported as `from scipy import linalg`). Some of these that are common to least\n",
    "squares problems are shown in `./ols.py`. Others we don't cover are the SVD and\n",
    "eigen decompositions. These would be most relevant to PCA. However, good\n",
    "implementations of these are typically provided in scikit-learn also via\n",
    "`sklearn.decomposition`. Consider having a look at those if you are planning to do PCA\n",
    "in your research."
   ]
  }
 ],
 "metadata": {
  "kernelspec": {
   "display_name": "tamu-osos-2025",
   "language": "python",
   "name": "python3"
  },
  "language_info": {
   "codemirror_mode": {
    "name": "ipython",
    "version": 3
   },
   "file_extension": ".py",
   "mimetype": "text/x-python",
   "name": "python",
   "nbconvert_exporter": "python",
   "pygments_lexer": "ipython3",
   "version": "3.10.18"
  }
 },
 "nbformat": 4,
 "nbformat_minor": 5
}
