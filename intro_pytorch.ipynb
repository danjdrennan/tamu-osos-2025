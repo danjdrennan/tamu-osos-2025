{
 "cells": [
  {
   "cell_type": "markdown",
   "metadata": {
    "id": "FClVS7XYP9Ob"
   },
   "source": [
    "# Getting started with Pytorch\n",
    "\n",
    "Dan Drennan <danjdrennan@gmail.com>\n",
    "\n",
    "26 May 2023\n",
    "\n",
    "---\n",
    "\n",
    "**NOTE**: This notebook was written to run in Google Colab. Pytorch is not installed in the local Dev Container or as a dependency in the `pyproject.toml` files."
   ]
  },
  {
   "cell_type": "markdown",
   "metadata": {
    "id": "x4z5tQXzP9Oc"
   },
   "source": [
    "## Overview"
   ]
  },
  {
   "cell_type": "markdown",
   "metadata": {
    "id": "xscOli95P9Oc"
   },
   "source": [
    "This notebook introduces the main parts of Pytorch, starting with basic tensor\n",
    "operations, random number generation, implementing models through object\n",
    "the object-oriented interface, and model optimization. Along the way it covers\n",
    "train-validation-test splits and a few tricks for optimization. Links are shared\n",
    "gratuitously throughout.\n",
    "\n",
    "**NOTE**: This notebook is meant to run in Google Colab. If running locally, be\n",
    "sure to install the following dependencies:\n",
    "\n",
    "```yaml\n",
    "python >= 3.10\n",
    "pytorch >= 1.13\n",
    "matplotlib >= 3.6\n",
    "```"
   ]
  },
  {
   "cell_type": "code",
   "execution_count": null,
   "metadata": {
    "id": "lxQKYb-iP9Oc"
   },
   "outputs": [],
   "source": [
    "# Imports (and most of the doc) follow the Google style guidelines for Python\n",
    "# https://google.github.io/styleguide/pyguide.html\n",
    "from dataclasses import dataclass\n",
    "\n",
    "import numpy as np\n",
    "import matplotlib.pyplot as plt\n",
    "import torch\n",
    "from torch import nn                # the neural network module\n",
    "from torch.utils import data        # base classes for data loaders"
   ]
  },
  {
   "cell_type": "markdown",
   "metadata": {
    "id": "OGgAPYJXP9Od"
   },
   "source": [
    "## Tensor Basics"
   ]
  },
  {
   "cell_type": "markdown",
   "metadata": {
    "id": "sTuNob5bP9Od"
   },
   "source": [
    "In Pytorch a tensor a multidimensional array data structure. Often there are\n",
    "multiple ways to perform operations such as transposes or computing inverses.\n",
    "The core data structure, a tensor, is implemented using lazy methods bound to\n",
    "the instance objects, which makes one-liner calculations trivial to perform.\n",
    "\n",
    "Before getting started, let's set a random seed to make the notebook run\n",
    "repeatably. There are two ways to set a seed in Pytorch. The first is using a simple\n",
    "manual seed call. The other is to create a `Generator` object. The latter is\n",
    "preferred for distributed computing because the generators can be passed into\n",
    "random functions to ensure that random numbers are generated consistently when\n",
    "performing async operations."
   ]
  },
  {
   "cell_type": "code",
   "execution_count": null,
   "metadata": {
    "id": "xwrOnYQUP9Od"
   },
   "outputs": [],
   "source": [
    "# This works\n",
    "torch.manual_seed(0)\n",
    "\n",
    "# This is preferred because you can pass generators to functions in distributed\n",
    "# systems. More details: https://pytorch.org/docs/stable/generated/torch.Generator.html\n",
    "gen = torch.Generator().manual_seed(0)"
   ]
  },
  {
   "cell_type": "markdown",
   "metadata": {
    "id": "SW4IrMnWP9Od"
   },
   "source": [
    "### Operations on Tensors"
   ]
  },
  {
   "cell_type": "markdown",
   "metadata": {
    "id": "1aXawZPQP9Od"
   },
   "source": [
    "Now we can get started with some basic method chaining, then show how computations\n",
    "on batched tensors works. To get started, we will create 1000 copies of a randomly\n",
    "generated symmetric, positive definite matrix `a`. Making sure the matrix is\n",
    "actually pd takes a little work, but the following shows one way to go about it."
   ]
  },
  {
   "cell_type": "code",
   "execution_count": null,
   "metadata": {
    "id": "5gZL-1pDP9Oe",
    "outputId": "3e895852-8356-4098-f925-160732b792c1"
   },
   "outputs": [
    {
     "name": "stdout",
     "output_type": "stream",
     "text": [
      "a.shape = torch.Size([1000, 50, 50])\n"
     ]
    }
   ],
   "source": [
    "a = torch.randn(1000, 50, 50, generator=gen)\n",
    "\n",
    "# We want to perturb the diagonal of `a` to make sure it is positive definite.\n",
    "# We start by making an identity matrix of the same shape as any slice of `a`.\n",
    "# Then we put a batch dimension on it and expand it to the same shape as `a`.\n",
    "eyes = torch.eye(a.shape[-1]).unsqueeze(0).expand_as(a)\n",
    "\n",
    "# Now finish the construction to make a positive definite matrix.\n",
    "a = 0.5 * (a.mT @ a)\n",
    "a += 10 * eyes\n",
    "\n",
    "print(f\"{a.shape = }\")"
   ]
  },
  {
   "cell_type": "markdown",
   "metadata": {
    "id": "40t8i60zP9Oe"
   },
   "source": [
    "#### Data Types and Devices\n",
    "\n",
    "A very first step is to either reset or query the device/datatype of a tensor.\n",
    "By default, tensors are created as `float32` on the CPU. To change the device,\n",
    "we can use the `cuda` method (when a device is available). Changing the data type\n",
    "can be done by calls to `long`, `float`, or `double`. The following code shows\n",
    "each of these.\n",
    "\n",
    "We will use autograd later on, and so we will also inspect whether a tensor is\n",
    "set to require gradient tracking."
   ]
  },
  {
   "cell_type": "code",
   "execution_count": null,
   "metadata": {
    "id": "2LwrbGaZP9Oe",
    "outputId": "50c1f42b-353d-40e0-f6e2-7ac3b9ed16cd"
   },
   "outputs": [
    {
     "name": "stdout",
     "output_type": "stream",
     "text": [
      "a.dtype = torch.float32\n",
      "a.device = device(type='cpu')\n",
      "a.requires_grad = False\n"
     ]
    }
   ],
   "source": [
    "print(f\"{a.dtype = }\")\n",
    "print(f\"{a.device = }\")\n",
    "print(f\"{a.requires_grad = }\")"
   ]
  },
  {
   "cell_type": "code",
   "execution_count": null,
   "metadata": {
    "id": "TQtmBybhP9Oe",
    "outputId": "de80f68c-beab-4db6-b1f2-a3d9ff8d5502"
   },
   "outputs": [
    {
     "name": "stdout",
     "output_type": "stream",
     "text": [
      "Data type conversions:\n",
      "a.float().dtype = torch.float32\n",
      "a.double().dtype = torch.float64\n",
      "a.long().dtype = torch.int64\n",
      "a.bool().dtype = torch.bool\n",
      "\n",
      "\n",
      "Device conversions (only available if GPU is available):\n",
      "a.device = device(type='cuda', index=0)\n",
      "a.device = device(type='cpu')\n"
     ]
    }
   ],
   "source": [
    "print(\"Data type conversions:\")\n",
    "print(f\"{a.float().dtype = }\")\n",
    "print(f\"{a.double().dtype = }\")\n",
    "print(f\"{a.long().dtype = }\")\n",
    "print(f\"{a.bool().dtype = }\")\n",
    "print('\\n')\n",
    "\n",
    "# Now casting to a GPU\n",
    "print(\"Device conversions (only available if GPU is available):\")\n",
    "if torch.cuda.is_available():\n",
    "    a = a.cuda()\n",
    "    print(f\"{a.device = }\")\n",
    "    a = a.cpu()\n",
    "    print(f\"{a.device = }\")"
   ]
  },
  {
   "cell_type": "markdown",
   "metadata": {
    "id": "3VK4XaRQP9Of"
   },
   "source": [
    "#### Indexing, Slicing, and Dimension Swapping\n",
    "\n",
    "A first step is to look at indexing and querying dimensions. The next block shows\n",
    "how to get the dimension of the tensor and various ways to slice through it.\n",
    "Note the dimension of a tensor is the number of axes we can index over.\n",
    "\n",
    "The main methods to look at here are `dim`, which gives the dimension the\n",
    "equivalent `size`/`shape` methods, which gives the size of the tensor along each\n",
    "dimension; and the `numel` method, which gives the number of elements in the\n",
    "tensor."
   ]
  },
  {
   "cell_type": "code",
   "execution_count": null,
   "metadata": {
    "id": "UtpEkyokP9Of",
    "outputId": "fb36a53d-a150-48e1-c238-0d499257e931"
   },
   "outputs": [
    {
     "name": "stdout",
     "output_type": "stream",
     "text": [
      "a.dim() = 3\n",
      "a.size() = torch.Size([1000, 50, 50])\n",
      "a.shape = torch.Size([1000, 50, 50])\n",
      "a.numel() = 2500000\n"
     ]
    }
   ],
   "source": [
    "print(f\"{a.dim() = }\")\n",
    "print(f\"{a.size() = }\")\n",
    "print(f\"{a.shape = }\")\n",
    "print(f\"{a.numel() = }\")"
   ]
  },
  {
   "cell_type": "markdown",
   "metadata": {
    "id": "yBNERjWPP9Of"
   },
   "source": [
    "Next we look at various ways to slice a tensor. Some would argue a best practice\n",
    "is to slice using the `:` notation at the top of each printed block. This is not\n",
    "a universal best practice, though, and there are some nicer ways to slice tensors\n",
    "that are shown as alternatives. I am partial to the `...` notation when indexing\n",
    "into the last dimension of a tensor.\n",
    "\n",
    "One note is that this slicing drops the sliced dimension."
   ]
  },
  {
   "cell_type": "code",
   "execution_count": null,
   "metadata": {
    "id": "zfCJfhIrP9Of",
    "outputId": "def2addf-ef96-4b4e-ac49-b1ad33e87e10"
   },
   "outputs": [
    {
     "name": "stdout",
     "output_type": "stream",
     "text": [
      "a[0, :, :].shape = torch.Size([50, 50])\n",
      "a[0, ...].shape = torch.Size([50, 50])\n",
      "a[0].shape = torch.Size([50, 50])\n",
      "\n",
      "\n",
      "a[:, :, 0].shape = torch.Size([1000, 50])\n",
      "a[..., 0].shape = torch.Size([1000, 50])\n",
      "\n",
      "\n",
      "a[:, 0, :].shape = torch.Size([1000, 50])\n",
      "a[:, 0].shape = torch.Size([1000, 50])\n",
      "a[..., 0, :].shape = torch.Size([1000, 50])\n"
     ]
    }
   ],
   "source": [
    "# The following are equivalent\n",
    "print(f\"{a[0, :, :].shape = }\")\n",
    "print(f\"{a[0, ...].shape = }\")\n",
    "print(f\"{a[0].shape = }\")\n",
    "print('\\n')\n",
    "\n",
    "# The following are equivalent\n",
    "print(f\"{a[:, :, 0].shape = }\")\n",
    "print(f\"{a[..., 0].shape = }\")\n",
    "print(\"\\n\")\n",
    "\n",
    "# The following are equivalent\n",
    "print(f\"{a[:, 0, :].shape = }\")\n",
    "print(f\"{a[:, 0].shape = }\")\n",
    "print(f\"{a[..., 0, :].shape = }\")"
   ]
  },
  {
   "cell_type": "markdown",
   "metadata": {
    "id": "AlC4JZWGP9Of"
   },
   "source": [
    "Other indexing that works as expected is slicing subsets of a dimension as follows."
   ]
  },
  {
   "cell_type": "code",
   "execution_count": null,
   "metadata": {
    "id": "XcAzjIZUP9Og",
    "outputId": "791e6177-ad9e-4945-bdad-68cc6ef7242d"
   },
   "outputs": [
    {
     "name": "stdout",
     "output_type": "stream",
     "text": [
      "a[0, 0, 0] = 40.3990\n"
     ]
    },
    {
     "data": {
      "text/plain": [
       "(torch.Size([1000, 50, 5]),\n",
       " torch.Size([1000, 50, 5]),\n",
       " torch.Size([1000, 50, 5]),\n",
       " torch.Size([1000, 50, 5]))"
      ]
     },
     "execution_count": 8,
     "metadata": {},
     "output_type": "execute_result"
    }
   ],
   "source": [
    "print(f\"{a[0, 0, 0] = :.4f}\")\n",
    "\n",
    "# The following are equivalent ways of selecting the first 5 elements of the\n",
    "# last dimension, keeping all of the first two dimensions. Similar slicing can\n",
    "# be done for other dimensions or over multiple dimensions.\n",
    "a[..., :5].shape, a[:, :, :5].shape, a[:, :, 0:5].shape, a[..., 0:5:1].shape"
   ]
  },
  {
   "cell_type": "markdown",
   "metadata": {
    "id": "bYdnuDNVP9Og"
   },
   "source": [
    "Occassionally we may want to swap or permute the axes of a tensor. This came up\n",
    "in my work recently when I wanted to move the last dimension into the first axis\n",
    "while keeping all others in the same place. The `permute` and `swapaxes` methods\n",
    "are useful for this. The `permute` method takes a list of integers that specify\n",
    "the new order of the axes, and requires that we specify every dimension in the\n",
    "call. The `swapaxes` method takes two integers and swaps the axes at those two\n",
    "positions."
   ]
  },
  {
   "cell_type": "code",
   "execution_count": null,
   "metadata": {
    "id": "PRY6jfUBP9Og",
    "outputId": "294e02fd-bbcd-4d24-a0ee-747769653956"
   },
   "outputs": [
    {
     "name": "stdout",
     "output_type": "stream",
     "text": [
      "a.shape = torch.Size([1000, 50, 50])\n",
      "a.swapaxes(0, 1).shape = torch.Size([50, 1000, 50])\n",
      "a.permute(1, 0, 2).shape = torch.Size([50, 1000, 50])\n"
     ]
    }
   ],
   "source": [
    "print(f\"{a.shape = }\")\n",
    "print(f\"{a.swapaxes(0, 1).shape = }\")\n",
    "print(f\"{a.permute(1, 0, 2).shape = }\")"
   ]
  },
  {
   "cell_type": "markdown",
   "metadata": {
    "id": "4MhCmo9yP9Og"
   },
   "source": [
    "#### Method Chaining\n",
    "\n",
    "Now let's look at some typical method chaining operations. First we can exponentiate\n",
    "the matrices element-wise and check that all the entries are nonnegative. As\n",
    "this block shows, there are several equivalent ways of doing this, with varying\n",
    "degrees of method chaining employed. To be perfectly clear about the operation\n",
    "we're doing in the next cell, the long-form computation would look like the\n",
    "following:\n",
    "\n",
    "```python\n",
    "exp_a = torch.exp(a)\n",
    "exp_a_geq_0 = exp_a >= 0\n",
    "all_exp_a_geq_0 = torch.all(exp_a_geq_0)\n",
    "```\n",
    "\n",
    "The downside to making the computation in this way is that we'd create several\n",
    "copies of a possibly large matrix, which is a collosal waste of memory! So let's\n",
    "look at more efficient one-liners. We use successively more and more method\n",
    "chaining in the following lines:"
   ]
  },
  {
   "cell_type": "code",
   "execution_count": null,
   "metadata": {
    "id": "ODmBVPcEP9Og",
    "outputId": "e29c6447-9322-4401-c37a-d5aefe7ad079"
   },
   "outputs": [
    {
     "name": "stdout",
     "output_type": "stream",
     "text": [
      "torch.all(torch.exp(a) >= 0) = tensor(True)\n",
      "torch.all(a.exp() >= 0) = tensor(True)\n",
      "a.exp().ge(0).all() = tensor(True)\n"
     ]
    }
   ],
   "source": [
    "print(f\"{torch.all(torch.exp(a) >= 0) = }\")\n",
    "print(f\"{torch.all(a.exp() >= 0) = }\")\n",
    "print(f\"{a.exp().ge(0).all() = }\")"
   ]
  },
  {
   "cell_type": "markdown",
   "metadata": {
    "id": "zz3XLOShP9Oh"
   },
   "source": [
    "To get a better sense of what operations are available for method chains, the\n",
    "following code provides a non-exhaustive list of operations that can be called."
   ]
  },
  {
   "cell_type": "code",
   "execution_count": null,
   "metadata": {
    "id": "DPyrCz-YP9Oh",
    "outputId": "73c5bac7-1be3-43bb-bca4-4b2119de0637"
   },
   "outputs": [
    {
     "data": {
      "text/plain": [
       "tensor(False)"
      ]
     },
     "execution_count": 11,
     "metadata": {},
     "output_type": "execute_result"
    }
   ],
   "source": [
    "(\n",
    "    # Method chaining is a great way to write readable code.\n",
    "    # The (...) syntax is crucial to make this syntax work.\n",
    "    a.exp()         # element-wise exponential\n",
    "    .log()          # element-wise logarithm\n",
    "    .pow(2)         # element-wise power\n",
    "    .square()       # element-wise square\n",
    "    .pow(0.5)       # element-wise square root\n",
    "    .sqrt()         # element-wise square root\n",
    "    .rsqrt()        # element-wise reciprocal square root\n",
    "    .reciprocal()   # element-wise reciprocal\n",
    "    .inverse()      # matrix inversion over the last two dimensions\n",
    "    .neg()          # element-wise negation\n",
    "    .add(5)         # element-wise addition\n",
    "    .sub(5)         # element-wise subtraction\n",
    "    .mul(5)         # element-wise multiplication\n",
    "    .div(5)         # element-wise division\n",
    "    .matmul(a)      # matrix multiplication over the last two dimensions\n",
    "    .isnan()        # element-wise check for NaN values\n",
    ").any()             # check if any element is True"
   ]
  },
  {
   "cell_type": "markdown",
   "metadata": {
    "id": "tH2SBlLGP9Oh"
   },
   "source": [
    "#### Batched Linear Algebra Operations\n",
    "\n",
    "Recall this matrix `a` is 1000 samples of a 50x50 pd matrix. The next cell\n",
    "demonstrates how we can call desirable matrix operations on batched matrices.\n",
    "An annoying aspect of the torch functions is that `eig` returns the eigenvalues\n",
    "as a complex type in all cases, so we need to cast them to real numbers if using\n",
    "this method. The operations are quite fast though, and the parallelization is\n",
    "awfully convenient."
   ]
  },
  {
   "cell_type": "code",
   "execution_count": null,
   "metadata": {
    "id": "-0ldsxDzP9Oh",
    "outputId": "8ce6dd59-f3a1-47e0-d0e2-01191cd33165"
   },
   "outputs": [
    {
     "name": "stdout",
     "output_type": "stream",
     "text": [
      "u.shape = torch.Size([1000, 50, 50])\n",
      "s.shape = torch.Size([1000, 50])\n",
      "v.shape = torch.Size([1000, 50, 50])\n",
      "\n",
      "\n",
      "eigvals.shape = torch.Size([1000, 50])\n",
      "eigvecs.shape = torch.Size([1000, 50, 50])\n",
      "\n",
      "\n",
      "chol.shape = torch.Size([1000, 50, 50])\n"
     ]
    }
   ],
   "source": [
    "# SVD, Cholesky, and Eigen decompositions\n",
    "u, s, v = torch.linalg.svd(a)\n",
    "print(f\"{u.shape = }\")\n",
    "print(f\"{s.shape = }\")\n",
    "print(f\"{v.shape = }\")\n",
    "print('\\n')\n",
    "\n",
    "eigvals, eigvecs = torch.linalg.eig(a)\n",
    "print(f\"{eigvals.shape = }\")\n",
    "print(f\"{eigvecs.shape = }\")\n",
    "print('\\n')\n",
    "\n",
    "chol = torch.linalg.cholesky(a)\n",
    "print(f\"{chol.shape = }\")"
   ]
  },
  {
   "cell_type": "markdown",
   "metadata": {
    "id": "kv2rgICsP9Oh"
   },
   "source": [
    "This is slightly contrived but we can now use summary statistics over the\n",
    "batch dimension to plot images, as shown next."
   ]
  },
  {
   "cell_type": "code",
   "execution_count": null,
   "metadata": {
    "id": "TWp8qanZP9Oi",
    "outputId": "b77fcb73-356c-4562-a353-bea5bd7c88d1"
   },
   "outputs": [
    {
     "data": {
      "image/png": "[encoded data removed]",
      "text/plain": [
       "<Figure size 640x480 with 4 Axes>"
      ]
     },
     "metadata": {},
     "output_type": "display_data"
    }
   ],
   "source": [
    "fig, ax = plt.subplots(1, 2)\n",
    "im = ax[0].imshow(chol.mean(0))\n",
    "plt.colorbar(im, ax=ax[0], shrink=0.5)\n",
    "im = ax[1].imshow(chol.std(0))\n",
    "plt.colorbar(im, ax=ax[1], shrink=0.5)\n",
    "plt.show()"
   ]
  },
  {
   "cell_type": "markdown",
   "metadata": {
    "id": "A-SFX3FEP9Oi"
   },
   "source": [
    "### Regression Example"
   ]
  },
  {
   "cell_type": "markdown",
   "metadata": {
    "id": "GTaf66cqP9Oi"
   },
   "source": [
    "To elucidate the point about how tensors are working, we can start by solving\n",
    "the same regression task 1000 times in parallel. Before doing this, let's generate\n",
    "a data matrix and look at some methods for querying tensors.\n",
    "\n",
    "The dimension of a tensor is the number of axes in the object. For example, the\n",
    "3 dimensional tensor generated in the next cell has 1000 batches, 30 samples per\n",
    "batch, and 3 input features. We use the `randn` function to generate independent\n",
    "random noise in each dimension. Other useful random functions are the `rand`\n",
    "function for sampling from a uniform distribution, and the `randint` function\n",
    "for sampling from a discrete uniform distribution. Also there is the `randperm`\n",
    "function for generating a random permutation of integers, typically to permute\n",
    "the rows of a tensor."
   ]
  },
  {
   "cell_type": "code",
   "execution_count": null,
   "metadata": {
    "id": "fAeEY1UIP9Oi",
    "outputId": "67cf8f24-9024-439a-cdef-f1d30493ceba"
   },
   "outputs": [
    {
     "name": "stdout",
     "output_type": "stream",
     "text": [
      "x shape: torch.Size([1000, 30, 3])\n",
      "x dim: 3\n",
      "x size: torch.Size([1000, 30, 3]);\t(an alias for shape)\n"
     ]
    }
   ],
   "source": [
    "# Create 100 instances of data to multiply with the true parameters. The shape\n",
    "# here is (b batches, n samples, p input dimensions). Note how we pass the gen\n",
    "# object created before to this randn function.\n",
    "x = torch.randn(1000, 30, 3, generator=gen)\n",
    "\n",
    "# We can get a lot of information about the tensor from the shape, dim, and size\n",
    "# methods. See below.\n",
    "print(f'x shape: {x.shape}')\n",
    "print(f'x dim: {x.dim()}')\n",
    "print(f'x size: {x.size()};\\t(an alias for shape)')"
   ]
  },
  {
   "cell_type": "markdown",
   "metadata": {
    "id": "mKYrcMjvP9Oi"
   },
   "source": [
    "Now let's finish constructing the data. The parameters can be in $\\mathbb{R}^{3}$,\n",
    "with no additional dimensions included. However, it is preferable for reasons we\n",
    "will see later to make explicit that `_b` is a $3 \\times 1$ tensor."
   ]
  },
  {
   "cell_type": "code",
   "execution_count": null,
   "metadata": {
    "id": "Rrt1CaAqP9Oj",
    "outputId": "619c8d1c-5060-472a-d4ce-543cb41bc1f8"
   },
   "outputs": [
    {
     "name": "stdout",
     "output_type": "stream",
     "text": [
      "Note the shape of this operation: torch.Size([1000, 30])\n"
     ]
    }
   ],
   "source": [
    "_b = torch.tensor([2., 1., 0.5])\n",
    "print(f\"Note the shape of this operation: {(x @ _b).shape}\")\n",
    "\n",
    "# Calculate the mean first\n",
    "y = x @ _b.unsqueeze(-1)\n",
    "\n",
    "# Now put noise on the data\n",
    "y += 0.1 * torch.randn_like(y)"
   ]
  },
  {
   "cell_type": "code",
   "execution_count": null,
   "metadata": {
    "id": "tRD10biWP9Oj",
    "outputId": "55c43d2d-2d11-4958-fc61-7fba9c27a4e9"
   },
   "outputs": [
    {
     "name": "stdout",
     "output_type": "stream",
     "text": [
      "Data shapes:\n",
      "x.shape = torch.Size([1000, 30, 3])\n",
      "y.shape = torch.Size([1000, 30, 1])\n"
     ]
    }
   ],
   "source": [
    "print('Data shapes:')\n",
    "print(f'{x.shape = }')\n",
    "print(f'{y.shape = }')"
   ]
  },
  {
   "cell_type": "markdown",
   "metadata": {
    "id": "y86S87T8P9Oj"
   },
   "source": [
    "Now we have a dataset to compute with and we would like to solve the regression\n",
    "problems. Using OLS is the preferred approach, but it requires us to transpose\n",
    "this tensor `x` which has four dimensions. How can this be done? The key is to\n",
    "use one of the following transpose operations:"
   ]
  },
  {
   "cell_type": "code",
   "execution_count": null,
   "metadata": {
    "id": "57RCWGYWP9Oj",
    "outputId": "4897b6e3-a88d-432d-f0b2-aaf2fc86d0ba"
   },
   "outputs": [
    {
     "name": "stdout",
     "output_type": "stream",
     "text": [
      "Original tensor shape: x.shape = torch.Size([1000, 30, 3])\n",
      "\n",
      "x.transpose(-1, -2).shape = torch.Size([1000, 3, 30])\n",
      "x.mT.shape = torch.Size([1000, 3, 30])\n",
      "s_hat.shape = torch.Size([1000, 3, 3])\n",
      "xt_y.shape = torch.Size([1000, 3, 1])\n"
     ]
    }
   ],
   "source": [
    "print(f\"Original tensor shape: {x.shape = }\\n\")\n",
    "print(f\"{x.transpose(-1, -2).shape = }\")\n",
    "# More simply\n",
    "print(f\"{x.mT.shape = }\")\n",
    "\n",
    "# Now compute the requisite quadratic forms in parallel\n",
    "s_hat = x.mT @ x\n",
    "print(f\"{s_hat.shape = }\")\n",
    "\n",
    "xt_y = x.mT @ y\n",
    "print(f\"{xt_y.shape = }\")"
   ]
  },
  {
   "cell_type": "markdown",
   "metadata": {
    "id": "MBugee2XP9Oj"
   },
   "source": [
    "Notice the effect of shaping the tensors the way we did. Because `x` and `y` are\n",
    "both 3D, we can use the `mT` (matrix transpose) operator, and pytorch recognizes\n",
    "the first dimension as a batching dimension for all matrix operations. This is\n",
    "incredibly useful, although it takes some adapting to recognize these operations\n",
    "can work this way.\n",
    "\n",
    "Now we can move on to estimating $b$ in the 100 cases we have generated."
   ]
  },
  {
   "cell_type": "code",
   "execution_count": null,
   "metadata": {
    "id": "3NhkciS0P9Ok",
    "outputId": "00707fa2-a1b0-49c8-e68b-f378101aeae9"
   },
   "outputs": [
    {
     "name": "stdout",
     "output_type": "stream",
     "text": [
      "b.shape = torch.Size([1000, 3, 1])\n"
     ]
    }
   ],
   "source": [
    "b = s_hat.inverse() @ xt_y\n",
    "\n",
    "print(f\"{b.shape = }\")\n",
    "\n",
    "# We no longer need the last dimension, so we can squeeze it off the tensor\n",
    "b = b.squeeze()"
   ]
  },
  {
   "cell_type": "markdown",
   "metadata": {
    "id": "LC90OmlVP9Ok"
   },
   "source": [
    "Now we can make a plot of the parameter estimates. The following code is a good\n",
    "sample for plotting with subplots using a common legend. Note the `fig.legend`\n",
    "method allows us to use a global legend for all subplots, and provides arguments\n",
    "for placing it in the figure."
   ]
  },
  {
   "cell_type": "code",
   "execution_count": null,
   "metadata": {
    "id": "Prh6qeB2P9Ok",
    "outputId": "267d3e66-c0e7-4f0f-94dc-63c3a48d699f"
   },
   "outputs": [
    {
     "data": {
      "image/png": "[encoded data removed]",
      "text/plain": [
       "<Figure size 600x300 with 3 Axes>"
      ]
     },
     "metadata": {},
     "output_type": "display_data"
    }
   ],
   "source": [
    "fig, ax = plt.subplots(1, 3, figsize = (6, 3), sharey=True)\n",
    "for i in range(3):\n",
    "    ax[i].hist(b[..., i], bins=20, edgecolor='C0', facecolor='lightblue')\n",
    "    ax[i].axvline(_b[i], c='b', ls='-')\n",
    "    ax[i].set_title(\"Estimates of $b_{}$\".format(i))\n",
    "\n",
    "fig.legend(['true values', 'estimates'], loc=\"center\", ncol=1, bbox_to_anchor=(1.05, 0.5))\n",
    "plt.show()"
   ]
  },
  {
   "cell_type": "markdown",
   "metadata": {
    "id": "GtkFowJLP9Ok"
   },
   "source": [
    "We hadn't covered it yet, but we can average over the batching dimension of `b`\n",
    "now to get good parameter estimates."
   ]
  },
  {
   "cell_type": "code",
   "execution_count": null,
   "metadata": {
    "id": "SWKJCwE2P9Ok",
    "outputId": "ac06671a-7dc9-40ec-94b9-a36f78924811"
   },
   "outputs": [
    {
     "name": "stdout",
     "output_type": "stream",
     "text": [
      "estimates of b averaged over batch dim: tensor([1.9980, 1.0008, 0.5000])\n",
      "true values of b: tensor([2.0000, 1.0000, 0.5000])\n"
     ]
    }
   ],
   "source": [
    "print(f\"estimates of b averaged over batch dim: {b.mean(0)}\")\n",
    "print(f\"true values of b: {_b}\")"
   ]
  },
  {
   "cell_type": "markdown",
   "metadata": {
    "id": "hhGtglMoP9Ol"
   },
   "source": [
    "### Automatic Differentiation"
   ]
  },
  {
   "cell_type": "markdown",
   "metadata": {
    "id": "KKE6tsiFP9Ol"
   },
   "source": [
    "One of the appealing aspects of using an ML library like Pytorch, even for non-ML\n",
    "projects, is the availability of automatic differentiation (AD). This is a powerful\n",
    "tool for computing gradients of functions, and is the basis for pretty much all\n",
    "of ML. Helpful papers on the topic include the following:\n",
    "\n",
    "- [Autograd: Effortless Gradients in Numpy](https://indico.ijclab.in2p3.fr/event/2914/contributions/6483/subcontributions/180/attachments/6060/7185/automl-short.pdf)\n",
    "- [Automatic Differentiation in Pytorch](https://openreview.net/forum?id=BJJsrmfCZ)\n",
    "- [Automatic Differentiation in Machine Learning: a Survey](https://arxiv.org/abs/1502.05767) (This is a comprehensive review)\n",
    "- [Automatic Differentiation Variational Inference](https://arxiv.org/abs/1603.00788)\n",
    "\n",
    "Andrej Karpathy (Stanford PhD in ML, formerly the head of AI at Tesla,\n",
    "and currently at OpenAI) demonstrated how to implement this from scratch on his\n",
    "YouTube channel: https://youtu.be/VMj-3S1tku0. An interested reader may find that\n",
    "this helpful to review.\n",
    "\n",
    "In the next two blocks we will look at autograd in action. First we will compute\n",
    "gradients and derivatives of a simple polynomial to see how to use this. Next we\n",
    "will look at how to compute Jacobians and Hessians of functions. This is rarely\n",
    "needed in a standard deep learning workflow, but it may be useful to see."
   ]
  },
  {
   "cell_type": "markdown",
   "metadata": {
    "id": "zZfvhnV3P9Ol"
   },
   "source": [
    "#### Standard Autograd"
   ]
  },
  {
   "cell_type": "markdown",
   "metadata": {
    "id": "hWxpxtY6P9Ol"
   },
   "source": [
    "AD is one of the most desirable features of Pytorch. It allows us to build up\n",
    "complex computational graphs and then compute gradients of the output with respect\n",
    "to the inputs without explicitly computing the derivatives of functions ourselves.\n",
    "The basic idea behind autograd is the chain rule of calculus,\n",
    "$$\n",
    "    \\frac{dz}{dx} = \\frac{dz}{dy}\\frac{dy}{dx},\n",
    "$$\n",
    "which is applied recursively to compute the gradient of a function with respect\n",
    "to its parameters and inputs.\n",
    "\n",
    "A familiar problem is to compute the position function in a falling body problem.\n",
    "Specifically, we have the position function\n",
    "$$\n",
    "    s(t) = 20 + 10 t -5 t^2\n",
    "$$\n",
    "and its derivative $s'(t) = -10 t + 10$. At $t = (0, 0.2, 0.4, 0.6, 0.8, 1.0)$,\n",
    "one can check the derivative is $s'(t) = (10, 8, 6, 4, 2, 0)$.\n",
    "\n",
    "When we construct the tensors below, we will pass the `requires_grad=True`\n",
    "flag to the constructors. This will tell Pytorch to track the gradients of the\n",
    "tensors with respect to the parameters. This causes a lot of bookkeeping to be\n",
    "done behind the scenes. More on this from the Pytorch developer podcast:\n",
    "https://open.spotify.com/episode/63OCX7hrpYYwWBx0imfu52?si=435e2de1da984f21.\n"
   ]
  },
  {
   "cell_type": "code",
   "execution_count": null,
   "metadata": {
    "id": "3dQMkWERP9Om",
    "outputId": "a2ae27cd-503e-4f18-a55f-af86c3b22d88"
   },
   "outputs": [
    {
     "name": "stdout",
     "output_type": "stream",
     "text": [
      "beta.grad = None\n",
      "t.grad = None\n"
     ]
    }
   ],
   "source": [
    "t = torch.linspace(0, 1, 6, requires_grad=True)\n",
    "beta = torch.tensor([20., 10., -5.])\n",
    "\n",
    "def pos(t: torch.Tensor, beta: torch.Tensor) -> torch.Tensor:\n",
    "    \"\"\"The position function for a falling body problem.\"\"\"\n",
    "    return beta[0] + beta[1] * t + beta[2] * t**2\n",
    "\n",
    "# Make a computation for s\n",
    "s = pos(t, beta)\n",
    "\n",
    "# Note here the gradients of these tensors are None\n",
    "print(f\"{beta.grad = }\")\n",
    "print(f\"{t.grad = }\")"
   ]
  },
  {
   "cell_type": "markdown",
   "metadata": {
    "id": "YgLVyCC3P9Om"
   },
   "source": [
    "The last cell built up a computational graph between the inputs $t$, polynomial\n",
    "parameters $\\beta$, and the output $s$. To get gradients from the output, we need\n",
    "to reduce $s$ from a tensor to a scalar. Once we reduce $s$ to a scalar we can\n",
    "call `backward` on it to compute the gradients of the parameters $\\beta$ as well\n",
    "as the derivative at the inputs $t$. Typically the summary function will be a\n",
    "loss function (in the `torch.nn` namespace), but in this case any summary\n",
    "function will do. Here we just compute a sum\n",
    "$$\n",
    "    T = \\sum_{i=1}^{6} s(t_i)\n",
    "$$\n",
    "and compute the derivatives of $T$ with respect to $\\beta$ and $t$. After\n",
    "reducing the outputs to a scalar, we can invoke the `backward` method to compute\n",
    "the gradients. The gradients are stored in the `.grad` attribute of the tensors."
   ]
  },
  {
   "cell_type": "code",
   "execution_count": null,
   "metadata": {
    "id": "AtrlRywQP9Om"
   },
   "outputs": [],
   "source": [
    "# Reduce the function\n",
    "ad_loss = s.sum()\n",
    "# Compute the gradients\n",
    "ad_loss.backward()"
   ]
  },
  {
   "cell_type": "markdown",
   "metadata": {
    "id": "SQrOvq2LP9Om"
   },
   "source": [
    "Now we can inspect the gradients of the input tensor $t$ to get the derivatives\n",
    "$s'(t)$."
   ]
  },
  {
   "cell_type": "code",
   "execution_count": null,
   "metadata": {
    "id": "w-Ecs9YqP9Om",
    "outputId": "2c109e32-3558-4686-9748-18c5a9294ef6"
   },
   "outputs": [
    {
     "name": "stdout",
     "output_type": "stream",
     "text": [
      "Derivative of s wrt t: t.grad = tensor([10.,  8.,  6.,  4.,  2.,  0.])\n"
     ]
    }
   ],
   "source": [
    "print(f\"Derivative of s wrt t: {t.grad = }\")"
   ]
  },
  {
   "cell_type": "markdown",
   "metadata": {
    "id": "jPj6B-23P9On"
   },
   "source": [
    "Note the function $s$ is a so-called leaf node (end of the graph), and\n",
    "the gradients for this tensor are not stored. Trying to get this gradient through\n",
    "the `.grad` attribute will return a `UserWarning`, which includes instructions\n",
    "on how to retain this gradient if you need it for some reason (you shouldn't in\n",
    "general)."
   ]
  },
  {
   "cell_type": "code",
   "execution_count": null,
   "metadata": {
    "id": "UBumEd_QP9On",
    "outputId": "476bdd5c-f3e9-4e74-d6b1-793e08311199"
   },
   "outputs": [
    {
     "name": "stderr",
     "output_type": "stream",
     "text": [
      "/tmp/ipykernel_9660/2235496752.py:1: UserWarning: The .grad attribute of a Tensor that is not a leaf Tensor is being accessed. Its .grad attribute won't be populated during autograd.backward(). If you indeed want the .grad field to be populated for a non-leaf Tensor, use .retain_grad() on the non-leaf Tensor. If you access the non-leaf Tensor by mistake, make sure you access the leaf Tensor instead. See github.com/pytorch/pytorch/pull/30531 for more informations. (Triggered internally at /opt/conda/conda-bld/pytorch_1682343995622/work/build/aten/src/ATen/core/TensorBody.h:486.)\n",
      "  s.grad\n"
     ]
    }
   ],
   "source": [
    "s.grad"
   ]
  },
  {
   "cell_type": "markdown",
   "metadata": {
    "id": "rcqsLM00P9On"
   },
   "source": [
    "Above we computed the function derivatives with respect to $t$ as an illustrative\n",
    "example. However, this is an atypical application of autograd. For ML applications\n",
    "we are actually interested in the gradient of the function's parameters, in this\n",
    "case $\\beta = (\\beta_0, \\beta_1, \\beta_2) = (20, 10, -5)$. This gradient is\n",
    "$$\n",
    "    \\nabla_\\beta\\ s(t) =\n",
    "    \\nabla_\\beta\\ (\\beta_0 + \\beta_1 t + \\beta_2 t^2) =\n",
    "    (1, t, t^2),\n",
    "$$\n",
    "although it is actually computed with respect to the sum $T$. Hence we instead\n",
    "get\n",
    "$$\n",
    "    \\nabla_\\beta T =\n",
    "    \\sum_{i=1}^{6} \\left( 1, t_i, t_i^2\\right) =\n",
    "    \\left( 6, 3, 2.2 \\right).\n",
    "$$\n",
    "In fact this gradient was computed above, but we didn't inspect it. Now we see it\n",
    "in the next cell."
   ]
  },
  {
   "cell_type": "code",
   "execution_count": null,
   "metadata": {
    "id": "iSF8FOfBP9Oo",
    "outputId": "c698fb0c-3104-4c3a-e8cf-bc42c15d313f"
   },
   "outputs": [
    {
     "name": "stdout",
     "output_type": "stream",
     "text": [
      "Gradient beta.grad = None\n"
     ]
    }
   ],
   "source": [
    "print(f\"Gradient {beta.grad = }\")"
   ]
  },
  {
   "cell_type": "markdown",
   "metadata": {
    "id": "ZXKkTP3nP9Oo"
   },
   "source": [
    "#### Other Gradient Functions"
   ]
  },
  {
   "cell_type": "markdown",
   "metadata": {
    "id": "pNFMb3T9P9Op"
   },
   "source": [
    "The `torch.autograd` namespace has a number of other functions for computing\n",
    "gradients. In some applications (e.g., normalizing flows, variational inference,\n",
    "etc.) we need to compute the Jacobian of a function. In other applications we\n",
    "need to compute the Hessian of a function; examples are variational inference,\n",
    "Newton-Raphson methods, and for Laplace approximations to a posterior distribution.\n",
    "The following cells show how to compute these. References in the Pytorch\n",
    "documentation are\n",
    "- [torch.autograd.grad](https://pytorch.org/docs/stable/autograd.html#torch.autograd.grad)\n",
    "- [torch.autograd.functional.jacobian](https://pytorch.org/docs/stable/autograd.html#torch.autograd.functional.jacobian)\n",
    "- [torch.autograd.functional.hessian](https://pytorch.org/docs/stable/autograd.html#torch.autograd.functional.hessian)\n"
   ]
  },
  {
   "cell_type": "markdown",
   "metadata": {
    "id": "ysPI7iLbP9Op"
   },
   "source": [
    "**Computing the Jacobian**\n",
    "\n",
    "The Jacobian of a function $f: \\mathbb{R}^n \\to \\mathbb{R}^m$ is the matrix of\n",
    "partial derivatives\n",
    "$$\n",
    "    J_{ij} = \\frac{\\partial f_i}{\\partial x_j}, \\quad i=1,\\dots, m, j=1, \\dots, n.\n",
    "$$\n",
    "As before, the typical interest for this computation is with respect to the parameters\n",
    "of the function, not the inputs. In the example below we compute the Jacobian of\n",
    "the polynomial function $s(t)$ with respect to the parameters $\\beta$. Setting\n",
    "`create_graph=False` indicates to Pytorch that we do not need to build a\n",
    "computational graph for the Jacobian. This is the typical case, as the Jacobian\n",
    "is usually used as an ancillary computation for optimization."
   ]
  },
  {
   "cell_type": "code",
   "execution_count": null,
   "metadata": {
    "id": "TKXCTif0P9Op",
    "outputId": "d98c2834-f225-439c-e060-859342429a62"
   },
   "outputs": [
    {
     "name": "stdout",
     "output_type": "stream",
     "text": [
      "tensor([6.0000, 3.0000, 2.2000])\n"
     ]
    }
   ],
   "source": [
    "jac = torch.autograd.functional.jacobian(\n",
    "    lambda b: pos(t=t, beta=b).sum(), beta, create_graph=False\n",
    ")\n",
    "\n",
    "print(jac)"
   ]
  },
  {
   "cell_type": "markdown",
   "metadata": {
    "id": "hxthw8u3P9Oq"
   },
   "source": [
    "The common application of a Hessian is either to compute the curvature of a\n",
    "function or to compute the covariance of the parameters of a model. In both\n",
    "cases, we are computing a quadratic form. In an explicit Newton-Raphson method,\n",
    "we would use the inverse Hessian to normalize the gradient. This is related to\n",
    "the approach taken in MCMC sampling using Laplace approximations as well, which\n",
    "would be the other main application for this function."
   ]
  },
  {
   "cell_type": "code",
   "execution_count": null,
   "metadata": {
    "id": "vv7pAf3EP9Oq",
    "outputId": "4b63c41a-9b40-4b00-a1b0-4cf4b36d7383"
   },
   "outputs": [
    {
     "name": "stdout",
     "output_type": "stream",
     "text": [
      "tensor([[12.0000,  6.0000,  4.4000],\n",
      "        [ 6.0000,  4.4000,  3.6000],\n",
      "        [ 4.4000,  3.6000,  3.1328]])\n"
     ]
    }
   ],
   "source": [
    "hess = torch.autograd.functional.hessian(\n",
    "    lambda b: pos(t=t, beta=b).square().sum(), beta, create_graph=False\n",
    ")\n",
    "\n",
    "print(hess)"
   ]
  },
  {
   "cell_type": "markdown",
   "metadata": {
    "id": "VXzSnN19P9Oq"
   },
   "source": [
    "## Building Neural Networks"
   ]
  },
  {
   "cell_type": "markdown",
   "metadata": {
    "id": "jEi_sSA5P9Oq"
   },
   "source": [
    "Now we turn to building a neural network. Neural networks and other types of\n",
    "models are constructed using the `nn.Module` class. This class is the parent\n",
    "class for all neural network models in Pytorch. Inheriting from the model means\n",
    "at least defining an `__init__` constructor and a `forward` method. The Pytorch\n",
    "module calls `forward` methods in the `__call__` function with additional buffers\n",
    "and checks.\n",
    "\n",
    "The constructor is where we define the layers of the network and parameters. The\n",
    "`forward` method is where we define the computation that happens in the network.\n",
    "We inherit several methods from the parent class by calling `super().__init__()`\n",
    "in the constructor. For this Pytorch has good YouTube tutorials; cf.\n",
    "https://youtu.be/OSqIP-mOWOI.\n",
    "\n",
    "The remainder of this section is divided into three sections\n",
    "   - Defining helper functions and data structures\n",
    "   - Defining a linear regression model in Pytorch\n",
    "   - Defining deep networks in Pytorch\n",
    "\n",
    "For each modeling part we will use the same regression data set simulated\n",
    "previously."
   ]
  },
  {
   "cell_type": "markdown",
   "metadata": {
    "id": "LYYlgUrYP9Oq"
   },
   "source": [
    "### Defining Helper Functions and Classes"
   ]
  },
  {
   "cell_type": "markdown",
   "metadata": {
    "id": "Ar4QsHy9P9Oq"
   },
   "source": [
    "It is often helpful to define helper functions and classes to reduce boilerplate\n",
    "code, which we in this block to emphasize focus on the neural networks in subsequent\n",
    "sections. This code can be skipped in the first reading and studied in more detail\n",
    "later. For now, just know the next blocks are defining:\n",
    "  - defining a `RegressionData` class which inherits from `torch.utils.data.Dataset`\n",
    "  - defining a `TrackedLossFunctions` dataclass for storing loss functions\n",
    "  - defining helper functions for model optimization\n",
    "  - plotters to visualize the loss functions"
   ]
  },
  {
   "cell_type": "code",
   "execution_count": null,
   "metadata": {
    "id": "7uQcUPtKP9Or"
   },
   "outputs": [],
   "source": [
    "# Data classes: One for model data and one for tracked loss functions\n",
    "class RegressionData(data.Dataset):\n",
    "    \"\"\"A data abstraction layer for use when training on our regression data.\n",
    "\n",
    "    These are suitable abstraction layers to use with Pytorch. A more lightweight\n",
    "    alternative would be to use a `NamedTuple` from the `typing` module or a\n",
    "    `dataclass` from the `dataclasses` module. The reason to use the Pytorch\n",
    "    `Dataset` class is that it is compatible with the `DataLoader` class, which\n",
    "    simplifies minibatch processing of the data.\n",
    "\n",
    "    Aside from the `__init__` method which constructs an abstraction of our data,\n",
    "    we must implement the `__len__` and `__getitem__` methods. The `__len__`\n",
    "    method allows us to call `len(dataset)` and get the number of samples in the\n",
    "    dataset. The `__getitem__` method allows us to index the dataset like a list\n",
    "    or tuple, e.g., `dataset[0]` will return the first sample in the dataset.\n",
    "\n",
    "    Attributes:\n",
    "        x (torch.Tensor): The input data.\n",
    "        y (torch.Tensor): The output data.\n",
    "    \"\"\"\n",
    "\n",
    "    def __init__(self, x: torch.Tensor, y: torch.Tensor) -> None:\n",
    "        \"\"\"Initialize the dataset.\"\"\"\n",
    "        super().__init__()\n",
    "        self.x = x\n",
    "        self.y = y\n",
    "\n",
    "    def __len__(self) -> int:\n",
    "        \"\"\"Return the number of samples in the dataset.\"\"\"\n",
    "        return self.x.shape[0]\n",
    "\n",
    "    def __getitem__(self, idx: int) -> tuple[torch.Tensor, torch.Tensor]:\n",
    "        \"\"\"Return a sample from the dataset.\"\"\"\n",
    "        return self.x[idx], self.y[idx]\n",
    "\n",
    "@dataclass\n",
    "class TrackedLossFunctions:\n",
    "    \"\"\"A dataclass to hold the output of a model.\"\"\"\n",
    "    train_loss: torch.Tensor\n",
    "    val_loss: torch.Tensor\n",
    "\n",
    "    def __len__(self) -> int:\n",
    "        \"\"\"Return the number of epochs.\"\"\"\n",
    "        return self.train_loss.shape[0]\n"
   ]
  },
  {
   "cell_type": "code",
   "execution_count": null,
   "metadata": {
    "id": "wlVTW4sJP9Or"
   },
   "outputs": [],
   "source": [
    "# Optimization functions: Two closures to use within the `fit_map` function\n",
    "def train_loop(dataloader, model, loss_fn, optimizer, scheduler) -> float:\n",
    "    \"\"\"A closure around the training loop used in `fit_map`.\"\"\"\n",
    "    size = len(dataloader.dataset)\n",
    "    train_loss = 0.\n",
    "    for _, (x, y) in enumerate(dataloader):\n",
    "        optimizer.zero_grad()\n",
    "        y_pred = model(x)\n",
    "        loss = loss_fn(y_pred, y)\n",
    "        train_loss += loss.item()\n",
    "        loss.backward()\n",
    "        optimizer.step()\n",
    "        scheduler.step()\n",
    "    return train_loss / size\n",
    "\n",
    "def test_loop(dataloader, model, loss_fn) -> float:\n",
    "    \"\"\"A closure around the validation loop in `fit_map`.\"\"\"\n",
    "    size = len(dataloader.dataset)\n",
    "    test_loss = 0.\n",
    "    with torch.no_grad():\n",
    "        for _, (x, y) in enumerate(dataloader):\n",
    "            y_pred = model(x)\n",
    "            test_loss += loss_fn(y_pred, y).item()\n",
    "    test_loss /= size\n",
    "    return test_loss\n",
    "\n",
    "\n",
    "def fit_model(\n",
    "        train_data: RegressionData | data.Subset,\n",
    "        validation_data: RegressionData | data.Subset,\n",
    "        model: nn.Module,\n",
    "        /,\n",
    "        learn_rate: float = 1e-3,\n",
    "        nsteps: int = 1000,\n",
    "        batch_size: int = 64,\n",
    "        generator: None | torch.Generator = None\n",
    "    ) -> TrackedLossFunctions:\n",
    "    \"\"\"A helper function to fit our models.\n",
    "\n",
    "    This function documents by way of an example many of the tricks one\n",
    "    would want to use for model training, including use of\n",
    "        - minibatching\n",
    "        - learning rate schedulers\n",
    "        - and train/test splitting/evaluation.\n",
    "    Where relevant, references to documentation are provided.\n",
    "\n",
    "    Args:\n",
    "        train_data (RegressionData | data.Subset): The training data.\n",
    "        test_data (RegressionData | data.Subset): The test/validation_data to\n",
    "            compare the model with.\n",
    "        model (nn.Module): The model to train. Any subclass of nn.Module will\n",
    "            work here.\n",
    "        learn_rate (float): The learning rate to use for the optimizer.\n",
    "        nsteps (int): The number of steps (epochs) to train for.\n",
    "        batch_size (int): The batch size to use for minibatching.\n",
    "        generator (None | torch.Generator): A random number generator to use\n",
    "            for minibatching. If None, no generator is used.\n",
    "\n",
    "    Returns:\n",
    "        tuple[torch.Tensor, torch.Tensor]: training and test/validation loss.\n",
    "\n",
    "    Notes:\n",
    "        Basic optimization is covered in the PyTorch tutorials:\n",
    "        https://pytorch.org/tutorials/beginner/basics/optimization_tutorial.html\n",
    "\n",
    "        See PEP 570 for the use of the `/` in the function signature:\n",
    "        https://peps.python.org/pep-0570/\n",
    "\n",
    "        See Google Style Guide for general documentation tips and more:\n",
    "        https://google.github.io/styleguide/pyguide.html\n",
    "    \"\"\"\n",
    "\n",
    "    # `torch.nn.Modules` have `train` and `eval` modes. Start this off by making\n",
    "    # sure we are in train mode. It's a good idea to start any function like this\n",
    "    # off with such a command.\n",
    "    model.train()\n",
    "\n",
    "    # Data preprocessing: We want to use minibatch gradient descent here, so we\n",
    "    # start by reshaping the data into the required batches.\n",
    "    train_loader = data.DataLoader(train_data, batch_size=batch_size, shuffle=True, generator=generator)\n",
    "    val_loader = data.DataLoader(validation_data, batch_size=batch_size, shuffle=True, generator=generator)\n",
    "\n",
    "    # Next, we need an optimizer. The Adam optimizer is a good choice for most\n",
    "    # problems, and is the one used here. We will pass the `lr` to it. Other\n",
    "    # optimizers are available in the `torch.optim` module.\n",
    "    optimizer = torch.optim.Adam(model.parameters(), lr=learn_rate)\n",
    "\n",
    "    # A learning rate scheduler is a function that decreases the learning rate\n",
    "    # of the optimizer over time. In theory the model is converging on the true\n",
    "    # parameters as the number of steps increases, so we want to decrease the\n",
    "    # learning rate to avoid overshooting the minimum. This is an\n",
    "    # exploration/exploitation problem, where we want to explore the space\n",
    "    # initially, but exploit the knowledge we have gained as we get closer to\n",
    "    # the minimum. The `torch.optim.lr_scheduler` module contains several classes\n",
    "    # for this purpose. Here we use the `torch.optim.lr_scheduler.ExponentialLR`.\n",
    "    scheduler = torch.optim.lr_scheduler.ExponentialLR(optimizer, verbose=False, gamma=0.99)\n",
    "\n",
    "    # The final ingredient is a loss function. Pytorch defines loss functions\n",
    "    # for us, so it is preferable to use those. Here we use the mean squared\n",
    "    # error.\n",
    "    mse_loss = torch.nn.MSELoss()\n",
    "\n",
    "    # We're ready to train. We'll store the training and test losses in respective\n",
    "    # tensors. The inside of this training loop is now quite simple due to the\n",
    "    # closures we defined above.\n",
    "    training_loss = torch.empty(nsteps)\n",
    "    val_loss = torch.empty(nsteps)\n",
    "\n",
    "    for epoch in range(nsteps):\n",
    "        training_loss[epoch] = train_loop(train_loader, model, mse_loss, optimizer, scheduler)\n",
    "        val_loss[epoch] = test_loop(val_loader, model, mse_loss)\n",
    "\n",
    "    # Switch the model back into `eval` mode before exiting.\n",
    "    model.eval()\n",
    "\n",
    "    return TrackedLossFunctions(training_loss, val_loss)"
   ]
  },
  {
   "cell_type": "code",
   "execution_count": null,
   "metadata": {
    "id": "eBn_YjK2P9Or"
   },
   "outputs": [],
   "source": [
    "# Plot function\n",
    "def plot_loss(\n",
    "    tracked_loss: TrackedLossFunctions, ax: plt.Axes | None = None, use_inset=True\n",
    ") -> plt.Axes:\n",
    "    \"\"\"A helper function for plotting the loss.\n",
    "\n",
    "    Args:\n",
    "        tracked_loss (TrackedLossFunctions): The loss functions to plot.\n",
    "        ax (plt.Axes | None): The axes to plot on. If None, a new figure is\n",
    "            created.\n",
    "        use_inset (bool): Whether to use an inset plot for the last 1/5 of the\n",
    "            data. Defaults to True.\n",
    "    \"\"\"\n",
    "    if ax is None:\n",
    "        fig, ax = plt.subplots(1, 1)\n",
    "\n",
    "    ax.plot(tracked_loss.train_loss, label=\"train loss\")\n",
    "    ax.plot(tracked_loss.val_loss, label=\"test loss\")\n",
    "    ax.set_title(\"Training a deep neural network (100 hidden layers)\")\n",
    "    ax.set_xlabel(\"epoch\")\n",
    "    ax.set_ylabel(\"training loss\")\n",
    "\n",
    "    if use_inset:\n",
    "        n = len(tracked_loss)\n",
    "        start_idx = 4 * n // 5\n",
    "        inset_ax = ax.inset_axes([0.5, 0.5, 0.45, 0.45])\n",
    "        inset_ax.plot(torch.arange(n)[start_idx:], tracked_loss.train_loss[start_idx:])\n",
    "        inset_ax.plot(torch.arange(n)[start_idx:], tracked_loss.val_loss[start_idx:])\n",
    "    ax.legend(title=\"loss functions\", bbox_to_anchor=(0.825, 0.425), loc=\"upper center\")\n",
    "\n",
    "    return ax"
   ]
  },
  {
   "cell_type": "markdown",
   "metadata": {
    "id": "K6oPxp1eP9Or"
   },
   "source": [
    "### Linear Regression as a Neural Network"
   ]
  },
  {
   "cell_type": "markdown",
   "metadata": {
    "id": "gQZRiJPxP9Or"
   },
   "source": [
    "This section demonstrates the Pytorch version of the linear regression model\n",
    "we ended with before. The model is defined as a class which inherits from\n",
    "`nn.Module`. Defining the behavior of the model is done in the `forward` method,\n",
    "which is called within the `__call__` method of the parent class. The calling\n",
    "method defines buffers and other checks we do not cover here. See the documentation\n",
    "for more details:\n",
    "\n",
    "https://pytorch.org/docs/stable/generated/torch.nn.Module.html"
   ]
  },
  {
   "cell_type": "code",
   "execution_count": null,
   "metadata": {
    "id": "UnWqxpeAP9Os"
   },
   "outputs": [],
   "source": [
    "class LinearRegression(nn.Module):\n",
    "    \"\"\"A multiple regression model.\n",
    "\n",
    "    This shows the Pytorch method of constructing a multiple regression model\n",
    "    with no intercept term. If an intercept were required, we'd let `bias=True`\n",
    "    in the `torch.nn.Linear` constructor.\n",
    "\n",
    "    The class shows an alternative way of parameterizing the model via a\n",
    "    `nn.Parameter` class. These are helpful if you're defining your own input\n",
    "    layers, as the `nn.Parameter` class will automatically register the parameters\n",
    "    tensor with the model (so it can be seen by the optimizer).\n",
    "    \"\"\"\n",
    "\n",
    "    def __init__(self, **kwargs) -> None:\n",
    "        \"\"\"Initialize the model. The kwargs are, e.g., device type and dtype\n",
    "        to pass to the linear layer's factory method to create the weights.\"\"\"\n",
    "        super().__init__()\n",
    "        self.linear = nn.Linear(3, 1, bias=False, **kwargs)\n",
    "\n",
    "        # Alternatively, we could have parameterized the model ourselves in the\n",
    "        # following way (see the corresponding comment in the forward method):\n",
    "        # self.weights = torch.nn.Parameter(torch.randn(3, 1, **kwargs))\n",
    "\n",
    "    def forward(self, x: torch.Tensor) -> torch.Tensor:\n",
    "        \"\"\"Compute the forward pass.\"\"\"\n",
    "        return self.linear(x)\n",
    "\n",
    "        # Had we parameterized the model ourselves, we would have done the\n",
    "        # following (see the corresponding comment in the __init__ method):\n",
    "        # return x @ self.weights\n"
   ]
  },
  {
   "cell_type": "markdown",
   "metadata": {
    "id": "_fClELmOP9Os"
   },
   "source": [
    "First let's recall the size of this data:"
   ]
  },
  {
   "cell_type": "code",
   "execution_count": null,
   "metadata": {
    "id": "spCL8TEyP9Os",
    "outputId": "651a4c39-e8f6-427b-886c-98e6e1bed71a"
   },
   "outputs": [
    {
     "name": "stdout",
     "output_type": "stream",
     "text": [
      "x.shape = torch.Size([1000, 30, 3])\n",
      "y.shape = torch.Size([1000, 30, 1])\n"
     ]
    }
   ],
   "source": [
    "print(f\"{x.shape = }\")\n",
    "print(f\"{y.shape = }\")"
   ]
  },
  {
   "cell_type": "markdown",
   "metadata": {
    "id": "NMAikJjuP9Os"
   },
   "source": [
    "For a three parameter neural network that also happens to be a convex optimization\n",
    "problem, this is a bit overkill. Because of this, we will split the data into\n",
    "train/validation/test datasets. The training data will be used to fit the model,\n",
    "the validation data will be used to select the model, and the test data will be\n",
    "used to evaluate the model. A typical split for this is an 70-20-10 split, which\n",
    "provides enough data for training and validation while still having enough data\n",
    "to get a sense of the out of sample performance of the model.\n",
    "\n",
    "Note: It is often the case that the validation data are referred to as test data.\n",
    "This is typically the case when the data are not split three times. This can lead\n",
    "to confusion, but be aware that the most canonical definition is to make the\n",
    "three way split of data. Additional references are provided below for further\n",
    "reading.\n",
    "\n",
    "References:\n",
    "\n",
    "  1. [Train-validation-test splits (Wikipedia)](https://en.wikipedia.org/wiki/Training,_validation,_and_test_data_sets).\n",
    "\n",
    "  2. Hastie, Tibshirani, and Friedman (2009). The Elements of Statistical Learning.\n",
    "      [See Chapter 7](https://link.springer.com/book/10.1007/978-0-387-84858-7)."
   ]
  },
  {
   "cell_type": "code",
   "execution_count": null,
   "metadata": {
    "id": "qYZLA9M3P9Os",
    "outputId": "fdb8cb2c-48bf-4c62-9ca0-b6ef0bfbf820"
   },
   "outputs": [
    {
     "name": "stdout",
     "output_type": "stream",
     "text": [
      "Data sizes:\t train = 21000\t validation = 6000\t test = 3000\n"
     ]
    }
   ],
   "source": [
    "regression_data = RegressionData(x.reshape(-1, 3), y.reshape(-1, 1))\n",
    "train_data, validation_data, test_data = data.random_split(regression_data, [0.7, 0.2, 0.1], generator=gen)\n",
    "\n",
    "print(\"Data sizes:\\t train = {0}\\t validation = {1}\\t test = {2}\".format(len(train_data), len(validation_data), len(test_data)))"
   ]
  },
  {
   "cell_type": "markdown",
   "metadata": {
    "id": "caCsOXI8P9Ot"
   },
   "source": [
    "Now we will finally create an instance of the `LinearRegression` model and fit it.\n",
    "Try running this code in a few different ways to note the difference in cost fitting\n",
    "the model with different batch size arguments and learning rates."
   ]
  },
  {
   "cell_type": "code",
   "execution_count": null,
   "metadata": {
    "id": "w2NAjrjQP9Ot"
   },
   "outputs": [],
   "source": [
    "linear_regression = LinearRegression()"
   ]
  },
  {
   "cell_type": "code",
   "execution_count": null,
   "metadata": {
    "id": "tcaeVT2VP9Ot"
   },
   "outputs": [],
   "source": [
    "tracked_loss = fit_model(train_data, validation_data, linear_regression, learn_rate=5e-3, nsteps=100, batch_size=300, generator=gen)"
   ]
  },
  {
   "cell_type": "code",
   "execution_count": null,
   "metadata": {
    "id": "7zyD7ltuP9Ot",
    "outputId": "b5cdf25f-14c6-4fff-ffa8-3d5271ee6e5a"
   },
   "outputs": [
    {
     "data": {
      "text/plain": [
       "<Axes: title={'center': 'Training a deep neural network (100 hidden layers)'}, xlabel='epoch', ylabel='training loss'>"
      ]
     },
     "execution_count": 36,
     "metadata": {},
     "output_type": "execute_result"
    },
    {
     "data": {
      "image/png": "[encoded data removed]",
      "text/plain": [
       "<Figure size 640x480 with 1 Axes>"
      ]
     },
     "metadata": {},
     "output_type": "display_data"
    }
   ],
   "source": [
    "plot_loss(tracked_loss)"
   ]
  },
  {
   "cell_type": "markdown",
   "metadata": {
    "id": "67dr17K9P9Ot"
   },
   "source": [
    "Now we can check the parameter estimates from this regression model. Pytorch\n",
    "models can have billions or trillions of parameters, so they return the parameters\n",
    "to the client using a generator. In this model the generator yields back one\n",
    "vector of parameters at once, but deeper networks (as we will see) can return\n",
    "more. The generator can either be consumed using a `next` call on the generator\n",
    "or by using an iterable object to consume the entire generator at once. We will\n",
    "see the latter in the next section."
   ]
  },
  {
   "cell_type": "code",
   "execution_count": null,
   "metadata": {
    "id": "RLbRWTyfP9Ot",
    "outputId": "d0811cfd-8300-4305-ba9c-7eda24695236"
   },
   "outputs": [
    {
     "name": "stdout",
     "output_type": "stream",
     "text": [
      "Neural net estimated params: tensor([0.8744, 0.3882, 0.2832])\n",
      "True params:                 tensor([2.0000, 1.0000, 0.5000])\n"
     ]
    }
   ],
   "source": [
    "# Use this context manager to ignore gradients whenever you do not want them to\n",
    "# be part of a computation graph (typical with parameters outside of model training).\n",
    "with torch.no_grad():\n",
    "    params = next(linear_regression.parameters()).detach()\n",
    "\n",
    "# Setting up pretty printing of the parameter comparison. I think there is an\n",
    "# easier way to do this, but it's not really a common problem to solve. Usually\n",
    "# you're going to save the parameters somewhere or print them to console without\n",
    "# formatting.\n",
    "nn_print = \"Neural net estimated params: \"\n",
    "true_params = \"True params: \"\n",
    "padding = \" \" * (len(nn_print) - len(true_params) -1)\n",
    "\n",
    "# Pretty(ish) print formatting\n",
    "print(nn_print + f\"{params.squeeze()}\")\n",
    "print(true_params + padding + f\" {_b}\")"
   ]
  },
  {
   "cell_type": "markdown",
   "metadata": {
    "id": "3uiJaldCP9Ou"
   },
   "source": [
    "### Deep Networks with Custom Layers"
   ]
  },
  {
   "cell_type": "markdown",
   "metadata": {
    "id": "bPKj3UObP9Ou"
   },
   "source": [
    "Now we demonstrate a deep network. For this we will build a very deep network\n",
    "using residual layer connections (He et al., 2016). This idea can be paired with\n",
    "or used to replace batch normalization (Ioffe and Szegedy, 2015). The details are\n",
    "not important here, we just want something that will stabilize the parameter\n",
    "estimation from fitting a very deep network. In this case the model parameters\n",
    "will not be worth studying, as they will have no meaningful interpretations.\n",
    "\n",
    "The `fit_model` method we defined earlier can be reused here without modification."
   ]
  },
  {
   "cell_type": "code",
   "execution_count": null,
   "metadata": {
    "id": "0MyIlEY5P9Ou"
   },
   "outputs": [],
   "source": [
    "class ResNetBlock(nn.Module):\n",
    "    \"\"\"A simple residual block for use in a deep resnet-like network.\n",
    "\n",
    "    It is out of scope, but these blocks focus on learning the residual\n",
    "    representation of the input, which is then added to the input to\n",
    "    produce the output. This allows the network to learn identity mappings\n",
    "    and skip connections, which affords learning arbitrarily deep networks\n",
    "    without vanishing gradients. See [1, 2] for more details on these problems.\n",
    "\n",
    "    References:\n",
    "\n",
    "    [1] He et al. (2016). https://arxiv.org/abs/1512.03385\n",
    "\n",
    "    [2] Ioffe and Christian (2015). https://arxiv.org/abs/1502.03167\n",
    "\n",
    "    \"\"\"\n",
    "\n",
    "    def __init__(self, n_hidden):\n",
    "        super().__init__()\n",
    "        self.layers = nn.Sequential(\n",
    "            nn.Linear(n_hidden, n_hidden),\n",
    "            nn.ReLU(),\n",
    "        )\n",
    "\n",
    "    def forward(self, x):\n",
    "        return x + self.layers(x)\n",
    "\n",
    "class DeepResNet(nn.Module):\n",
    "    \"\"\"A resnet-like network with several hidden layers.\n",
    "\n",
    "    The residual part of the network is applied at each hidden layer, allowing\n",
    "    the network to learn identity mappings and skip connections. This affords\n",
    "    learning arbitrarily deep networks without the vanishing gradient problem.\n",
    "    \"\"\"\n",
    "\n",
    "    def __init__(self, n_in, n_hidden, n_out, n_layers=5):\n",
    "        super().__init__()\n",
    "        self.layers = nn.Sequential(\n",
    "            nn.Linear(n_in, n_hidden),      # Input layer\n",
    "            nn.ReLU(),                      # Input activation function\n",
    "            nn.BatchNorm1d(n_hidden),       # Batch normalization\n",
    "            *[nn.Sequential(                # A sequence of Resnet blocks\n",
    "                ResNetBlock(n_hidden),\n",
    "                nn.ReLU(),\n",
    "            ) for _ in range(n_layers)],\n",
    "            nn.Linear(n_hidden, n_out)      # Output layer\n",
    "        )\n",
    "\n",
    "    def forward(self, x):\n",
    "        return self.layers(x)"
   ]
  },
  {
   "cell_type": "markdown",
   "metadata": {
    "id": "JatqiC5tP9Ou"
   },
   "source": [
    "With a deep network defined, let's instantiate a copy of it and get to training.\n",
    "First we'll instantiate the model and print a summary of the layers. Then we'll\n",
    "train the model and plot the loss, as before."
   ]
  },
  {
   "cell_type": "code",
   "execution_count": null,
   "metadata": {
    "id": "u7Kk4isdP9Ou",
    "outputId": "b881113f-ae98-4010-c57c-7a3094291cad"
   },
   "outputs": [
    {
     "name": "stdout",
     "output_type": "stream",
     "text": [
      "DeepResNet(\n",
      "  (layers): Sequential(\n",
      "    (0): Linear(in_features=3, out_features=10, bias=True)\n",
      "    (1): ReLU()\n",
      "    (2): BatchNorm1d(10, eps=1e-05, momentum=0.1, affine=True, track_running_stats=True)\n",
      "    (3): Sequential(\n",
      "      (0): ResNetBlock(\n",
      "        (layers): Sequential(\n",
      "          (0): Linear(in_features=10, out_features=10, bias=True)\n",
      "          (1): ReLU()\n",
      "        )\n",
      "      )\n",
      "      (1): ReLU()\n",
      "    )\n",
      "    (4): Sequential(\n",
      "      (0): ResNetBlock(\n",
      "        (layers): Sequential(\n",
      "          (0): Linear(in_features=10, out_features=10, bias=True)\n",
      "          (1): ReLU()\n",
      "        )\n",
      "      )\n",
      "      (1): ReLU()\n",
      "    )\n",
      "    (5): Linear(in_features=10, out_features=1, bias=True)\n",
      "  )\n",
      ")\n"
     ]
    }
   ],
   "source": [
    "deepnet = DeepResNet(3, 10, 1, n_layers=2)\n",
    "\n",
    "# Print the model architecture\n",
    "print(deepnet)"
   ]
  },
  {
   "cell_type": "code",
   "execution_count": null,
   "metadata": {
    "id": "PqqPHvXOP9Ov"
   },
   "outputs": [],
   "source": [
    "tracked_loss = fit_model(train_data, validation_data, deepnet, learn_rate=3e-4, nsteps=100, batch_size=300, generator=gen)"
   ]
  },
  {
   "cell_type": "code",
   "execution_count": null,
   "metadata": {
    "id": "_2kgc4VvP9Ov",
    "outputId": "bdc4e6a7-f4ff-4265-9e11-eed695486186"
   },
   "outputs": [
    {
     "data": {
      "text/plain": [
       "<Axes: title={'center': 'Training a deep neural network (100 hidden layers)'}, xlabel='epoch', ylabel='training loss'>"
      ]
     },
     "execution_count": 41,
     "metadata": {},
     "output_type": "execute_result"
    },
    {
     "data": {
      "image/png": "[encoded data removed]",
      "text/plain": [
       "<Figure size 640x480 with 1 Axes>"
      ]
     },
     "metadata": {},
     "output_type": "display_data"
    }
   ],
   "source": [
    "plot_loss(tracked_loss)"
   ]
  },
  {
   "cell_type": "markdown",
   "metadata": {
    "id": "GLnav6hyP9Ov"
   },
   "source": [
    "To conclude, let's revisit the last model with a much deeper network. We will\n",
    "this time use 50 layers to fit the same regression data. This nearly caches the\n",
    "training data in the parameters, so obviously in practice we'd want to include\n",
    "test data.\n",
    "\n",
    "Note: Due to the number of parameters in this model, it is going to initialize\n",
    "very far away from whatever the \"true\" parameters are. That will typically cause\n",
    "the first loss evaluation to be very large. This is not a problem, but the scale\n",
    "of the loss may surprise you when you view the plot."
   ]
  },
  {
   "cell_type": "code",
   "execution_count": null,
   "metadata": {
    "id": "lF8MaSQpP9Ov"
   },
   "outputs": [],
   "source": [
    "deepnet2 = DeepResNet(3, 10, 1, n_layers=50)"
   ]
  },
  {
   "cell_type": "code",
   "execution_count": null,
   "metadata": {
    "id": "GqMbOtIwP9Ov"
   },
   "outputs": [],
   "source": [
    "tracked_loss = fit_model(train_data, validation_data, deepnet2, learn_rate=3e-4, nsteps=100, batch_size=300, generator=gen)"
   ]
  },
  {
   "cell_type": "code",
   "execution_count": null,
   "metadata": {
    "id": "84tQRyNYP9Ow",
    "outputId": "63116bb4-723b-4be4-8b18-f70bf9e99548"
   },
   "outputs": [
    {
     "data": {
      "text/plain": [
       "<Axes: title={'center': 'Training a deep neural network (100 hidden layers)'}, xlabel='epoch', ylabel='training loss'>"
      ]
     },
     "execution_count": 44,
     "metadata": {},
     "output_type": "execute_result"
    },
    {
     "data": {
      "image/png": "[encoded data removed]",
      "text/plain": [
       "<Figure size 640x480 with 1 Axes>"
      ]
     },
     "metadata": {},
     "output_type": "display_data"
    }
   ],
   "source": [
    "plot_loss(tracked_loss)"
   ]
  },
  {
   "cell_type": "markdown",
   "metadata": {
    "id": "ZXqE1mfaP9Ow"
   },
   "source": [
    "### Model Comparisons"
   ]
  },
  {
   "cell_type": "markdown",
   "metadata": {
    "id": "mKE4H8irP9Ow"
   },
   "source": [
    "Now in the interest of demonstrating why one would hold back the test data, let's\n",
    "compare the performance of the three models on the test data. This could be used\n",
    "as a basis for model averaging or model selection."
   ]
  },
  {
   "cell_type": "code",
   "execution_count": null,
   "metadata": {
    "id": "maaOhdPVP9Ow",
    "outputId": "c810d841-8186-45a3-c26f-a19a92e899f9"
   },
   "outputs": [
    {
     "name": "stdout",
     "output_type": "stream",
     "text": [
      "Linear regression test loss: 1.761997938156128\n",
      "Deep net test loss: 4.488327980041504\n",
      "Deep net 2 test loss: 3578287.75\n"
     ]
    }
   ],
   "source": [
    "mse_loss = nn.MSELoss()\n",
    "with torch.no_grad():\n",
    "    tx, ty = test_data[:]\n",
    "    lr_test_loss = mse_loss(linear_regression(tx), ty)\n",
    "    deepnet_test_loss = mse_loss(deepnet(tx), ty)\n",
    "    deepnet2_test_loss = mse_loss(deepnet2(tx), ty)\n",
    "\n",
    "print(f\"Linear regression test loss: {lr_test_loss}\")\n",
    "print(f\"Deep net test loss: {deepnet_test_loss}\")\n",
    "print(f\"Deep net 2 test loss: {deepnet2_test_loss}\")"
   ]
  }
 ],
 "metadata": {
  "colab": {
   "provenance": []
  },
  "kernelspec": {
   "display_name": "spatial",
   "language": "python",
   "name": "python3"
  },
  "language_info": {
   "codemirror_mode": {
    "name": "ipython",
    "version": 3
   },
   "file_extension": ".py",
   "mimetype": "text/x-python",
   "name": "python",
   "nbconvert_exporter": "python",
   "pygments_lexer": "ipython3",
   "version": "3.11.3"
  },
  "orig_nbformat": 4
 },
 "nbformat": 4,
 "nbformat_minor": 0
}
