{
 "cells": [
  {
   "cell_type": "code",
   "execution_count": 1,
   "id": "a9baae66",
   "metadata": {},
   "outputs": [],
   "source": [
    "import time\n",
    "import timeit\n",
    "import matplotlib.pyplot as plt\n",
    "import numpy as np\n",
    "from scipy import linalg"
   ]
  },
  {
   "cell_type": "markdown",
   "id": "2791a5df",
   "metadata": {},
   "source": [
    "## Intro\n",
    "\n",
    "Numpy is a numerical python library implementing almost everything you would want to\n",
    "use from classical numerical linear algebra. It has a sister package that is closely\n",
    "integrated in many submodules, and here we will cover a subset of both. The plan is to\n",
    "briefly go over different data types, data layouts (arrays), functions, linear\n",
    "algebra, and random number generation. There are many other libraries in Python for\n",
    "doing deep learning which use quite similar APIs. Almost every concept we discuss in\n",
    "this module would carry over to those frameworks. Among those frameworks, PyTorch is\n",
    "the most popular deep learning framework in use today, but JAX is a terrific ecosystem\n",
    "with much tighter coupling to Numpy."
   ]
  },
  {
   "cell_type": "markdown",
   "id": "b75c70e8",
   "metadata": {},
   "source": [
    "## Data Types"
   ]
  },
  {
   "cell_type": "markdown",
   "id": "a4035ccd",
   "metadata": {},
   "source": [
    "This section covers the core data types in Numpy. These can be scalars or the \n",
    "core data types for arrays. We cover\n",
    "\n",
    "* ints \n",
    "* uints \n",
    "* floats\n",
    "* complex\n",
    "  \n",
    "We also look at type promotion in the case where different data types interact \n",
    "together. Generally the type promotion rules are that we promote lower order\n",
    "types up to the larger container. So integers will become floats and small floats\n",
    "will become big floats if that is necessary."
   ]
  },
  {
   "cell_type": "markdown",
   "id": "ea234e4f",
   "metadata": {},
   "source": [
    "### Integers\n",
    "\n",
    "Like Python provides several builtin types to represent numerical data, Numpy provides\n",
    "many of its own types. A key difference is that all of numpy's types are fixed width,\n",
    "meaning that they can overflow. For example:"
   ]
  },
  {
   "cell_type": "code",
   "execution_count": 2,
   "id": "b74238aa",
   "metadata": {},
   "outputs": [
    {
     "data": {
      "text/plain": [
       "array(1)"
      ]
     },
     "execution_count": 2,
     "metadata": {},
     "output_type": "execute_result"
    }
   ],
   "source": [
    "i64 = np.array(1)\n",
    "i64"
   ]
  },
  {
   "cell_type": "markdown",
   "id": "41a69fef",
   "metadata": {},
   "source": [
    "We can also ask for unsigned versions of integers, or cast data from one type into\n",
    "another (dangerous if you aren't positive of domain restrictions). For example:"
   ]
  },
  {
   "cell_type": "code",
   "execution_count": 3,
   "id": "ba005541",
   "metadata": {},
   "outputs": [
    {
     "data": {
      "text/plain": [
       "array(1, dtype=uint64)"
      ]
     },
     "execution_count": 3,
     "metadata": {},
     "output_type": "execute_result"
    }
   ],
   "source": [
    "u64 = i64.astype(np.uint64)\n",
    "u64"
   ]
  },
  {
   "cell_type": "markdown",
   "id": "a299dfb1",
   "metadata": {},
   "source": [
    "The types can sometimes lead to surprising results if we aren't careful. Unlike Python's builtin integers, these fixed-width integers can wrap around to values in unexpected ways. Here are some examples:"
   ]
  },
  {
   "cell_type": "code",
   "execution_count": 4,
   "id": "24591fd9",
   "metadata": {},
   "outputs": [
    {
     "name": "stdout",
     "output_type": "stream",
     "text": [
      "i64-2=np.int64(-1), u64-2=np.uint64(18446744073709551615)\n",
      "True\n",
      "-1\n"
     ]
    }
   ],
   "source": [
    "print(f\"{i64-2=}, {u64-2=}\")\n",
    "print(f\"{u64 - 2 == 2**64 - 1}\")\n",
    "print(f\"{(u64 - 2).astype(np.int64)}\")"
   ]
  },
  {
   "cell_type": "markdown",
   "id": "ccc4521a",
   "metadata": {},
   "source": [
    "The signed integer uses its first bit to indicate the sign of the number and its\n",
    "remaining 63 bits to represent the integer itself. So the range of representable\n",
    "values are $-2^{63} \\leq i_{64} < 2^{63}$. The unsigned bit does not reserve that first\n",
    "position, so we have $0 \\leq u_{64} < 2^{64}$. And as we see, integers can be recast between\n",
    "types to be interpreted differently."
   ]
  },
  {
   "cell_type": "markdown",
   "id": "716dfe80",
   "metadata": {},
   "source": [
    "Because Numpy stores integers in fixed space, we can also overflow them with undefined\n",
    "behavior. Consider now what happens when we shift the bit left by several positions:"
   ]
  },
  {
   "cell_type": "code",
   "execution_count": 5,
   "id": "e8ee5621",
   "metadata": {},
   "outputs": [
    {
     "name": "stdout",
     "output_type": "stream",
     "text": [
      "-9223372036854775808\n"
     ]
    }
   ],
   "source": [
    "print(i64 << 63)"
   ]
  },
  {
   "cell_type": "markdown",
   "id": "9ed8ee44",
   "metadata": {},
   "source": [
    "And although we will practically never need to *do* any of this in applications, it is\n",
    "important to at least know these things could be issues if we're not careful. And it is \n",
    "especially important to know this behavior is different from what we get from Python's \n",
    "builtin types. Integers in Python are not necessarily the same as integers in Numpy."
   ]
  },
  {
   "cell_type": "markdown",
   "id": "832bd0a8",
   "metadata": {},
   "source": [
    "### Floats"
   ]
  },
  {
   "cell_type": "markdown",
   "id": "b1307cab",
   "metadata": {},
   "source": [
    "Floating point types are a similar story. By default, Numpy stores everything in\n",
    "float64. It also aggressively promotes things internally to float64. So if we just\n",
    "create a float\n"
   ]
  },
  {
   "cell_type": "code",
   "execution_count": 6,
   "id": "9c389d76",
   "metadata": {},
   "outputs": [
    {
     "name": "stdout",
     "output_type": "stream",
     "text": [
      "1.0 float64\n"
     ]
    }
   ],
   "source": [
    "f64 = np.array(1.0)\n",
    "print(f64, f64.dtype)"
   ]
  },
  {
   "cell_type": "markdown",
   "id": "4651736a",
   "metadata": {},
   "source": [
    "we see it is using 64 bits. We could just as well store things in float32, in which\n",
    "case we have"
   ]
  },
  {
   "cell_type": "code",
   "execution_count": 7,
   "id": "5d178bf5",
   "metadata": {},
   "outputs": [
    {
     "name": "stdout",
     "output_type": "stream",
     "text": [
      "1.0 2.0 3.0 2.0\n",
      "float32 float32 float32 float32\n"
     ]
    }
   ],
   "source": [
    "a = np.array(1.0, dtype=np.float32)\n",
    "b = np.array(2.0, dtype=np.float32)\n",
    "c = a + b\n",
    "d = a * b\n",
    "print(a, b, c, d)\n",
    "print(a.dtype, b.dtype, c.dtype, d.dtype)"
   ]
  },
  {
   "cell_type": "markdown",
   "id": "0f032d46",
   "metadata": {},
   "source": [
    "Numpy also supports complex numbers. Unless you're doing signal processing you\n",
    "probably won't find much need for these. But some of you may want to use FFTs in your\n",
    "research, in which case you will want to know that these exist and behave slightly\n",
    "differently from other data types."
   ]
  },
  {
   "cell_type": "code",
   "execution_count": 8,
   "id": "e94df285",
   "metadata": {},
   "outputs": [
    {
     "name": "stdout",
     "output_type": "stream",
     "text": [
      "(1+1j) complex128\n"
     ]
    }
   ],
   "source": [
    "c64 = np.array(1.0 + 1.0j)\n",
    "print(c64, c64.dtype)"
   ]
  },
  {
   "cell_type": "markdown",
   "id": "b4b2c779",
   "metadata": {},
   "source": [
    "For example, the absolute value of a complex number is actually the Euclidean distance in the\n",
    "complex plane:"
   ]
  },
  {
   "cell_type": "code",
   "execution_count": 9,
   "id": "0726cfc3",
   "metadata": {},
   "outputs": [
    {
     "data": {
      "text/plain": [
       "(np.float64(1.4142135623730951), np.float64(1.4142135623730951))"
      ]
     },
     "execution_count": 9,
     "metadata": {},
     "output_type": "execute_result"
    }
   ],
   "source": [
    "np.abs(c64), np.sqrt(1**2 + 1**2)"
   ]
  },
  {
   "cell_type": "markdown",
   "id": "baefb6ab",
   "metadata": {},
   "source": [
    "The full list of numpy's dtypes can be found at\n",
    "\n",
    "   [Numpy Dtypes](https://numpy.org/devdocs/user/basics.types.html)\n"
   ]
  },
  {
   "cell_type": "markdown",
   "id": "2db8139b",
   "metadata": {},
   "source": [
    "A last note: floats are imprecise approximations of the real number line. So we have"
   ]
  },
  {
   "cell_type": "code",
   "execution_count": 10,
   "id": "55cfedaf",
   "metadata": {},
   "outputs": [
    {
     "name": "stdout",
     "output_type": "stream",
     "text": [
      "0.30000000000000004\n"
     ]
    }
   ],
   "source": [
    "print(np.array(0.1) + np.array(0.2))"
   ]
  },
  {
   "cell_type": "markdown",
   "id": "a3374c1a",
   "metadata": {},
   "source": [
    "This is a consequence of implementing floats using IEEE754, which is the most common\n",
    "computational model of the real numbers. The main consequence of floating point arithmetic\n",
    "is that we cannot always guarantee an operation is going to satisfy `equality` comparisons\n",
    "as we might expect. Integers do not suffer this affliction, as the next example shows:"
   ]
  },
  {
   "cell_type": "code",
   "execution_count": 11,
   "id": "e2407904",
   "metadata": {},
   "outputs": [
    {
     "data": {
      "text/plain": [
       "np.True_"
      ]
     },
     "execution_count": 11,
     "metadata": {},
     "output_type": "execute_result"
    }
   ],
   "source": [
    "i64 == u64"
   ]
  },
  {
   "cell_type": "markdown",
   "id": "bf67793d",
   "metadata": {},
   "source": [
    "But floats are not the same story"
   ]
  },
  {
   "cell_type": "code",
   "execution_count": 12,
   "id": "d3eafbdb",
   "metadata": {},
   "outputs": [
    {
     "data": {
      "text/plain": [
       "(np.False_, np.True_)"
      ]
     },
     "execution_count": 12,
     "metadata": {},
     "output_type": "execute_result"
    }
   ],
   "source": [
    "a = np.array(0.1)\n",
    "b = np.array(0.2)\n",
    "c = np.array(0.3)\n",
    "a + b == c, np.isclose(a + b, c)"
   ]
  },
  {
   "cell_type": "markdown",
   "id": "acb2ab02",
   "metadata": {},
   "source": [
    "In floating point, we have to instead ask *are these two things close*?"
   ]
  },
  {
   "cell_type": "markdown",
   "id": "5b338f98",
   "metadata": {},
   "source": [
    "## Data Layouts (Arrays)"
   ]
  },
  {
   "cell_type": "markdown",
   "id": "2ce7bbe9",
   "metadata": {},
   "source": [
    "Topics:\n",
    "\n",
    "- scalars\n",
    "- vectors\n",
    "- matrices\n",
    "- tensors\n",
    "- reshaping\n",
    "- broadcasting"
   ]
  },
  {
   "cell_type": "markdown",
   "id": "91e15a6d",
   "metadata": {},
   "source": [
    "The reason we use Numpy isn't really to work on scalars. It's because we want to\n",
    "use container types like n-dimensional arrays. We use numpy when we want to do matrix\n",
    "math, or just to make some analysis in Python go faster than default Python.\n",
    "\n",
    "A good starter is to look at the arange object. Python has `range(start, stop, step)`\n",
    "objects. Numpy has `arange(start, stop, step)` objects. Note in both cases that we\n",
    "use half open intervals [start, stop)."
   ]
  },
  {
   "cell_type": "code",
   "execution_count": 13,
   "id": "e0bbf49a",
   "metadata": {},
   "outputs": [
    {
     "name": "stdout",
     "output_type": "stream",
     "text": [
      "[0 1 2 3 4 5 6 7 8 9]\n"
     ]
    }
   ],
   "source": [
    "arange = np.arange(10)\n",
    "print(arange)"
   ]
  },
  {
   "cell_type": "markdown",
   "id": "2a399ce2",
   "metadata": {},
   "source": [
    "These arrays are zero-indexed. The first element is accessed at arange[0], like:"
   ]
  },
  {
   "cell_type": "code",
   "execution_count": 14,
   "id": "1ac908d6",
   "metadata": {},
   "outputs": [
    {
     "name": "stdout",
     "output_type": "stream",
     "text": [
      "0\n"
     ]
    }
   ],
   "source": [
    "print(arange[0])"
   ]
  },
  {
   "cell_type": "markdown",
   "id": "44869ba4",
   "metadata": {},
   "source": [
    "Unlike Python's range object, our numpy arange supports instantiation by float. So the\n",
    "following are equivalent:"
   ]
  },
  {
   "cell_type": "code",
   "execution_count": 15,
   "id": "47ba6617",
   "metadata": {},
   "outputs": [
    {
     "name": "stdout",
     "output_type": "stream",
     "text": [
      "[0. 1. 2. 3. 4. 5. 6. 7. 8. 9.]\n",
      "[0. 1. 2. 3. 4. 5. 6. 7. 8. 9.]\n"
     ]
    }
   ],
   "source": [
    "aranged = np.arange(10.0)\n",
    "arange_double = np.arange(10).astype(np.float64)\n",
    "print(aranged)\n",
    "print(arange_double)"
   ]
  },
  {
   "cell_type": "markdown",
   "id": "f5f3c309",
   "metadata": {},
   "source": [
    "We compared the last two arrays by printing and looking at them. But we can actually\n",
    "use comparison operators for the same purpose:"
   ]
  },
  {
   "cell_type": "code",
   "execution_count": 16,
   "id": "4c0846e0",
   "metadata": {},
   "outputs": [
    {
     "name": "stdout",
     "output_type": "stream",
     "text": [
      "[False False False False False False False False False False]\n",
      "[ True  True  True  True  True  True  True  True  True  True]\n",
      "[False False False False False False False False False False]\n"
     ]
    }
   ],
   "source": [
    "print(aranged < arange_double)\n",
    "print(aranged == arange_double)\n",
    "print(aranged > arange_double)"
   ]
  },
  {
   "cell_type": "markdown",
   "id": "20a7a1e0",
   "metadata": {},
   "source": [
    "What happened here? Numpy does comparisons elementwise by _broadcasting_. We will\n",
    "discuss broadcasting more momentarily. If we wanted to know if all of the elements\n",
    "were the same, we could wrap the last comparison like so"
   ]
  },
  {
   "cell_type": "code",
   "execution_count": 17,
   "id": "d6ad09ae",
   "metadata": {},
   "outputs": [
    {
     "name": "stdout",
     "output_type": "stream",
     "text": [
      "True\n"
     ]
    }
   ],
   "source": [
    "print(np.all(aranged == arange_double))"
   ]
  },
  {
   "cell_type": "markdown",
   "id": "47f90a64",
   "metadata": {},
   "source": [
    "Or if we wondered if any of the elements matched, we could instead ask"
   ]
  },
  {
   "cell_type": "code",
   "execution_count": 18,
   "id": "fe842bef",
   "metadata": {},
   "outputs": [
    {
     "name": "stdout",
     "output_type": "stream",
     "text": [
      "True\n"
     ]
    }
   ],
   "source": [
    "print(np.any(aranged == arange_double))"
   ]
  },
  {
   "cell_type": "markdown",
   "id": "aabcbd66",
   "metadata": {},
   "source": [
    "These comparisons may take some practice to get used to, but they become intuitive\n",
    "over time (I promise!).\n",
    "\n",
    "Another thing to be cognizant of is type promotion. Numpy _really likes to work in\n",
    "float64_. And any time we combine data from different types, Numpy will promote to the\n",
    "largest type necessary to store the results."
   ]
  },
  {
   "cell_type": "code",
   "execution_count": 19,
   "id": "5837d96f",
   "metadata": {},
   "outputs": [
    {
     "name": "stdout",
     "output_type": "stream",
     "text": [
      "float32\n",
      "float64\n"
     ]
    }
   ],
   "source": [
    "arangef = np.arange(10.0, dtype=np.float32)\n",
    "aranged = np.arange(10.0, dtype=np.float64)\n",
    "print((arangef + arangef).dtype)\n",
    "print((arangef + aranged).dtype)"
   ]
  },
  {
   "cell_type": "markdown",
   "id": "b554a0e6",
   "metadata": {},
   "source": [
    "A last thing we want to discuss before looking at larger array types is broadcasting.\n",
    "We saw with comparisons that numpy does elementwise comparison. The same is true if we\n",
    "compare our scalars with our vectors."
   ]
  },
  {
   "cell_type": "code",
   "execution_count": 20,
   "id": "ee13727e",
   "metadata": {},
   "outputs": [
    {
     "name": "stdout",
     "output_type": "stream",
     "text": [
      "[False False False False False  True False False False False]\n"
     ]
    }
   ],
   "source": [
    "i64 = np.array(5)\n",
    "arange = np.arange(10)\n",
    "print(arange == i64)"
   ]
  },
  {
   "cell_type": "code",
   "execution_count": 21,
   "id": "1ebf6a2e",
   "metadata": {},
   "outputs": [
    {
     "name": "stdout",
     "output_type": "stream",
     "text": [
      "False\n"
     ]
    }
   ],
   "source": [
    "print(np.all(arange == i64))"
   ]
  },
  {
   "cell_type": "code",
   "execution_count": 22,
   "id": "bf3a90df",
   "metadata": {},
   "outputs": [
    {
     "name": "stdout",
     "output_type": "stream",
     "text": [
      "True\n"
     ]
    }
   ],
   "source": [
    "print(np.any(arange == i64))"
   ]
  },
  {
   "cell_type": "markdown",
   "id": "dbb1eeb0",
   "metadata": {},
   "source": [
    "Or if we want to know where two things are equal, we can just ask:"
   ]
  },
  {
   "cell_type": "code",
   "execution_count": 23,
   "id": "e0206869",
   "metadata": {},
   "outputs": [
    {
     "name": "stdout",
     "output_type": "stream",
     "text": [
      "(array([5]),)\n"
     ]
    }
   ],
   "source": [
    "print(np.where(arange == i64))"
   ]
  },
  {
   "cell_type": "markdown",
   "id": "013330ec",
   "metadata": {},
   "source": [
    "This returns an index of all of the places where two things are equal. Often, however\n",
    "we want to know this so that we can replace some set of values with another set of\n",
    "values. For example, we typically use `np.where` to replace writing a code snippet like\n",
    "\n",
    "```python\n",
    "for i in range(10):\n",
    "    if arange[i] == i64:    # conditional\n",
    "        arange[i] = 1       # true vals\n",
    "    else:\n",
    "        arange[i] = 0       # false vals\n",
    "```\n",
    "\n",
    "And doing that in `np.where`, we have \n",
    "\n",
    "```python\n",
    "np.where(conditional, true_vals, false_vals)\n",
    "```"
   ]
  },
  {
   "cell_type": "code",
   "execution_count": 24,
   "id": "6e272b34",
   "metadata": {},
   "outputs": [
    {
     "name": "stdout",
     "output_type": "stream",
     "text": [
      "[0 0 0 0 0 1 0 0 0 0]\n"
     ]
    }
   ],
   "source": [
    "print(np.where(arange == i64, 1, 0))"
   ]
  },
  {
   "cell_type": "markdown",
   "id": "c39e25f4",
   "metadata": {},
   "source": [
    "### Broadcasting\n",
    "\n",
    "One of the great features of numpy is its declarative syntax, which includes\n",
    "broadcasting of results when the shapes don't match but have compatible dimensions\n",
    "somehow. Here are a few examples to try:"
   ]
  },
  {
   "cell_type": "code",
   "execution_count": 25,
   "id": "be6c40e5",
   "metadata": {},
   "outputs": [
    {
     "data": {
      "text/plain": [
       "array([ 5,  6,  7,  8,  9, 10, 11, 12, 13, 14])"
      ]
     },
     "execution_count": 25,
     "metadata": {},
     "output_type": "execute_result"
    }
   ],
   "source": [
    "arange = np.arange(10)\n",
    "arange + 5"
   ]
  },
  {
   "cell_type": "code",
   "execution_count": 26,
   "id": "9aa550ef",
   "metadata": {},
   "outputs": [
    {
     "data": {
      "text/plain": [
       "array([ 0,  5, 10, 15, 20, 25, 30, 35, 40, 45])"
      ]
     },
     "execution_count": 26,
     "metadata": {},
     "output_type": "execute_result"
    }
   ],
   "source": [
    "arange * 5"
   ]
  },
  {
   "cell_type": "code",
   "execution_count": 27,
   "id": "a4d38445",
   "metadata": {},
   "outputs": [
    {
     "data": {
      "text/plain": [
       "array([0. , 0.2, 0.4, 0.6, 0.8, 1. , 1.2, 1.4, 1.6, 1.8])"
      ]
     },
     "execution_count": 27,
     "metadata": {},
     "output_type": "execute_result"
    }
   ],
   "source": [
    "arange / 5"
   ]
  },
  {
   "cell_type": "code",
   "execution_count": 28,
   "id": "1241080a",
   "metadata": {},
   "outputs": [
    {
     "data": {
      "text/plain": [
       "array([0, 0, 0, 0, 0, 1, 1, 1, 1, 1])"
      ]
     },
     "execution_count": 28,
     "metadata": {},
     "output_type": "execute_result"
    }
   ],
   "source": [
    "arange // 5"
   ]
  },
  {
   "cell_type": "markdown",
   "id": "f7470247",
   "metadata": {},
   "source": [
    "### Reshaping arrays\n",
    "\n",
    "Another wonderful feature of numpy arrays is that the shapes\n",
    "are *mutable*. We can reshape things in any way we like to get\n",
    "a more meaningful representation of our data:"
   ]
  },
  {
   "cell_type": "code",
   "execution_count": 29,
   "id": "786e0155",
   "metadata": {},
   "outputs": [
    {
     "data": {
      "text/plain": [
       "array([[0., 1., 2., 3., 4.],\n",
       "       [5., 6., 7., 8., 9.]])"
      ]
     },
     "execution_count": 29,
     "metadata": {},
     "output_type": "execute_result"
    }
   ],
   "source": [
    "arange = np.arange(10.0).reshape(2, 5)\n",
    "arange"
   ]
  },
  {
   "cell_type": "markdown",
   "id": "ee5d0bb5",
   "metadata": {},
   "source": [
    "Above we provided both dimensions explicitly, but we can also provide them\n",
    "implicitly, like so:"
   ]
  },
  {
   "cell_type": "code",
   "execution_count": 30,
   "id": "e3c7af53",
   "metadata": {},
   "outputs": [
    {
     "data": {
      "text/plain": [
       "array([[0., 1., 2., 3., 4.],\n",
       "       [5., 6., 7., 8., 9.]])"
      ]
     },
     "execution_count": 30,
     "metadata": {},
     "output_type": "execute_result"
    }
   ],
   "source": [
    "arange = np.arange(10.0).reshape(2, -1)\n",
    "#                     Note the -1  ^^^\n",
    "arange"
   ]
  },
  {
   "cell_type": "markdown",
   "id": "d678e673",
   "metadata": {},
   "source": [
    "We can make the arrays longer and reshape them into any configuration we like:"
   ]
  },
  {
   "cell_type": "code",
   "execution_count": 31,
   "id": "81e1cc67",
   "metadata": {},
   "outputs": [
    {
     "data": {
      "text/plain": [
       "array([[[[  0.,   1.,   2.,   3.,   4.,   5.,   6.],\n",
       "         [  7.,   8.,   9.,  10.,  11.,  12.,  13.],\n",
       "         [ 14.,  15.,  16.,  17.,  18.,  19.,  20.],\n",
       "         [ 21.,  22.,  23.,  24.,  25.,  26.,  27.],\n",
       "         [ 28.,  29.,  30.,  31.,  32.,  33.,  34.]],\n",
       "\n",
       "        [[ 35.,  36.,  37.,  38.,  39.,  40.,  41.],\n",
       "         [ 42.,  43.,  44.,  45.,  46.,  47.,  48.],\n",
       "         [ 49.,  50.,  51.,  52.,  53.,  54.,  55.],\n",
       "         [ 56.,  57.,  58.,  59.,  60.,  61.,  62.],\n",
       "         [ 63.,  64.,  65.,  66.,  67.,  68.,  69.]],\n",
       "\n",
       "        [[ 70.,  71.,  72.,  73.,  74.,  75.,  76.],\n",
       "         [ 77.,  78.,  79.,  80.,  81.,  82.,  83.],\n",
       "         [ 84.,  85.,  86.,  87.,  88.,  89.,  90.],\n",
       "         [ 91.,  92.,  93.,  94.,  95.,  96.,  97.],\n",
       "         [ 98.,  99., 100., 101., 102., 103., 104.]]],\n",
       "\n",
       "\n",
       "       [[[105., 106., 107., 108., 109., 110., 111.],\n",
       "         [112., 113., 114., 115., 116., 117., 118.],\n",
       "         [119., 120., 121., 122., 123., 124., 125.],\n",
       "         [126., 127., 128., 129., 130., 131., 132.],\n",
       "         [133., 134., 135., 136., 137., 138., 139.]],\n",
       "\n",
       "        [[140., 141., 142., 143., 144., 145., 146.],\n",
       "         [147., 148., 149., 150., 151., 152., 153.],\n",
       "         [154., 155., 156., 157., 158., 159., 160.],\n",
       "         [161., 162., 163., 164., 165., 166., 167.],\n",
       "         [168., 169., 170., 171., 172., 173., 174.]],\n",
       "\n",
       "        [[175., 176., 177., 178., 179., 180., 181.],\n",
       "         [182., 183., 184., 185., 186., 187., 188.],\n",
       "         [189., 190., 191., 192., 193., 194., 195.],\n",
       "         [196., 197., 198., 199., 200., 201., 202.],\n",
       "         [203., 204., 205., 206., 207., 208., 209.]]]])"
      ]
     },
     "execution_count": 31,
     "metadata": {},
     "output_type": "execute_result"
    }
   ],
   "source": [
    "arange = np.arange(2.0 * 3.0 * 5.0 * 7.0).reshape(2, 3, 5, 7)\n",
    "arange"
   ]
  },
  {
   "cell_type": "markdown",
   "id": "10c47a0d",
   "metadata": {},
   "source": [
    "### Array Metadata"
   ]
  },
  {
   "cell_type": "markdown",
   "id": "2f895f85",
   "metadata": {},
   "source": [
    "Arrays come with metadata: We can query the amount of storage used for the array, its\n",
    "shape, and the dtype (as we saw with scalars):"
   ]
  },
  {
   "cell_type": "code",
   "execution_count": 32,
   "id": "95c0da62",
   "metadata": {},
   "outputs": [
    {
     "name": "stdout",
     "output_type": "stream",
     "text": [
      "1680 (2, 3, 5, 7) float64\n"
     ]
    }
   ],
   "source": [
    "arange = np.arange(2.0 * 3.0 * 5.0 * 7.0).reshape(2, 3, 5, 7)\n",
    "print(arange.nbytes, arange.shape, arange.dtype)"
   ]
  },
  {
   "cell_type": "markdown",
   "id": "45fa46a1",
   "metadata": {},
   "source": [
    "Data can be reshaped in whatever way we want, and again we can query the new arrays\n",
    "to learn what the shape and data types are. In most cases it is probably clear from\n",
    "context what we want to use or do"
   ]
  },
  {
   "cell_type": "code",
   "execution_count": 33,
   "id": "e175bfad",
   "metadata": {},
   "outputs": [
    {
     "name": "stdout",
     "output_type": "stream",
     "text": [
      "1680 (5, 2, 3, 7) float64\n"
     ]
    }
   ],
   "source": [
    "arange_reshaped = arange.reshape(5, 2, 3, 7)\n",
    "print(arange_reshaped.nbytes, arange_reshaped.shape, arange_reshaped.dtype)"
   ]
  },
  {
   "cell_type": "code",
   "execution_count": 34,
   "id": "9d6fbfaf",
   "metadata": {},
   "outputs": [
    {
     "name": "stdout",
     "output_type": "stream",
     "text": [
      "[[[[  0.   1.   2.   3.   4.   5.   6.]\n",
      "   [  7.   8.   9.  10.  11.  12.  13.]\n",
      "   [ 14.  15.  16.  17.  18.  19.  20.]]\n",
      "\n",
      "  [[ 21.  22.  23.  24.  25.  26.  27.]\n",
      "   [ 28.  29.  30.  31.  32.  33.  34.]\n",
      "   [ 35.  36.  37.  38.  39.  40.  41.]]]\n",
      "\n",
      "\n",
      " [[[ 42.  43.  44.  45.  46.  47.  48.]\n",
      "   [ 49.  50.  51.  52.  53.  54.  55.]\n",
      "   [ 56.  57.  58.  59.  60.  61.  62.]]\n",
      "\n",
      "  [[ 63.  64.  65.  66.  67.  68.  69.]\n",
      "   [ 70.  71.  72.  73.  74.  75.  76.]\n",
      "   [ 77.  78.  79.  80.  81.  82.  83.]]]\n",
      "\n",
      "\n",
      " [[[ 84.  85.  86.  87.  88.  89.  90.]\n",
      "   [ 91.  92.  93.  94.  95.  96.  97.]\n",
      "   [ 98.  99. 100. 101. 102. 103. 104.]]\n",
      "\n",
      "  [[105. 106. 107. 108. 109. 110. 111.]\n",
      "   [112. 113. 114. 115. 116. 117. 118.]\n",
      "   [119. 120. 121. 122. 123. 124. 125.]]]\n",
      "\n",
      "\n",
      " [[[126. 127. 128. 129. 130. 131. 132.]\n",
      "   [133. 134. 135. 136. 137. 138. 139.]\n",
      "   [140. 141. 142. 143. 144. 145. 146.]]\n",
      "\n",
      "  [[147. 148. 149. 150. 151. 152. 153.]\n",
      "   [154. 155. 156. 157. 158. 159. 160.]\n",
      "   [161. 162. 163. 164. 165. 166. 167.]]]\n",
      "\n",
      "\n",
      " [[[168. 169. 170. 171. 172. 173. 174.]\n",
      "   [175. 176. 177. 178. 179. 180. 181.]\n",
      "   [182. 183. 184. 185. 186. 187. 188.]]\n",
      "\n",
      "  [[189. 190. 191. 192. 193. 194. 195.]\n",
      "   [196. 197. 198. 199. 200. 201. 202.]\n",
      "   [203. 204. 205. 206. 207. 208. 209.]]]]\n"
     ]
    }
   ],
   "source": [
    "print(arange_reshaped)"
   ]
  },
  {
   "cell_type": "markdown",
   "id": "36feb0b6",
   "metadata": {},
   "source": [
    "Finally, we can take subsets of data in the same way as we slice any other object in\n",
    "Python; some examples:"
   ]
  },
  {
   "cell_type": "code",
   "execution_count": 35,
   "id": "ab211915",
   "metadata": {},
   "outputs": [
    {
     "data": {
      "text/plain": [
       "array([3., 4., 5.])"
      ]
     },
     "execution_count": 35,
     "metadata": {},
     "output_type": "execute_result"
    }
   ],
   "source": [
    "arange = np.arange(10.0)\n",
    "\n",
    "# slice elements 3:6 of arange\n",
    "arange[3:6]"
   ]
  },
  {
   "cell_type": "code",
   "execution_count": 36,
   "id": "5e862502",
   "metadata": {},
   "outputs": [
    {
     "data": {
      "text/plain": [
       "array([0., 1., 2., 3.])"
      ]
     },
     "execution_count": 36,
     "metadata": {},
     "output_type": "execute_result"
    }
   ],
   "source": [
    "# Slice the first four elements of arange\n",
    "arange[:4]"
   ]
  },
  {
   "cell_type": "code",
   "execution_count": 37,
   "id": "aa767bfd",
   "metadata": {},
   "outputs": [
    {
     "data": {
      "text/plain": [
       "array([7., 8., 9.])"
      ]
     },
     "execution_count": 37,
     "metadata": {},
     "output_type": "execute_result"
    }
   ],
   "source": [
    "# Slice from index 7 to the end of the array\n",
    "arange[7:]"
   ]
  },
  {
   "cell_type": "code",
   "execution_count": 38,
   "id": "6e6fea44",
   "metadata": {},
   "outputs": [
    {
     "data": {
      "text/plain": [
       "array([6., 7., 8., 9.])"
      ]
     },
     "execution_count": 38,
     "metadata": {},
     "output_type": "execute_result"
    }
   ],
   "source": [
    "# Slice the last four elements of arange\n",
    "arange[-4:]"
   ]
  },
  {
   "cell_type": "markdown",
   "id": "5945c865",
   "metadata": {},
   "source": [
    "### Initializing Data\n",
    "\n",
    "There are several ways in which we may want to create new arrays aside from the ones\n",
    "shown. Some of these are with pseudo-random numbers, which we'll get to in a moment.\n",
    "But there are several deterministic sequences we may want to create, like"
   ]
  },
  {
   "cell_type": "code",
   "execution_count": 39,
   "id": "9fd47d4c",
   "metadata": {},
   "outputs": [
    {
     "data": {
      "text/plain": [
       "array([[1., 2., 3.],\n",
       "       [4., 5., 6.],\n",
       "       [7., 8., 9.]])"
      ]
     },
     "execution_count": 39,
     "metadata": {},
     "output_type": "execute_result"
    }
   ],
   "source": [
    "# Generate a 3x3 empty matrix\n",
    "np.empty((3, 3))"
   ]
  },
  {
   "cell_type": "code",
   "execution_count": 40,
   "id": "544a46c2",
   "metadata": {},
   "outputs": [
    {
     "data": {
      "text/plain": [
       "array([[0., 0., 0.],\n",
       "       [0., 0., 0.],\n",
       "       [0., 0., 0.]])"
      ]
     },
     "execution_count": 40,
     "metadata": {},
     "output_type": "execute_result"
    }
   ],
   "source": [
    "# Generate a 3x3 zeros matrix\n",
    "np.zeros((3, 3))"
   ]
  },
  {
   "cell_type": "code",
   "execution_count": 41,
   "id": "a89dee2d",
   "metadata": {},
   "outputs": [
    {
     "data": {
      "text/plain": [
       "array([[1., 1., 1.],\n",
       "       [1., 1., 1.],\n",
       "       [1., 1., 1.]])"
      ]
     },
     "execution_count": 41,
     "metadata": {},
     "output_type": "execute_result"
    }
   ],
   "source": [
    "# Generate a 3x3 ones matrix\n",
    "np.ones((3, 3))"
   ]
  },
  {
   "cell_type": "markdown",
   "id": "cc80a667",
   "metadata": {},
   "source": [
    "Here are a few more variations to try:"
   ]
  },
  {
   "cell_type": "code",
   "execution_count": 42,
   "id": "d5af4832",
   "metadata": {},
   "outputs": [
    {
     "data": {
      "text/plain": [
       "array([ 0.,  2.,  4.,  6.,  8., 10., 12., 14., 16., 18., 20., 22., 24.,\n",
       "       26., 28., 30.])"
      ]
     },
     "execution_count": 42,
     "metadata": {},
     "output_type": "execute_result"
    }
   ],
   "source": [
    "# Generate a sequence 0, 2, 4, ..., 30 using the arange function\n",
    "# Note its signature: np.arange(start, stop, step)\n",
    "np.arange(0.0, 31.0, 2)"
   ]
  },
  {
   "cell_type": "code",
   "execution_count": 43,
   "id": "fc5bd041",
   "metadata": {},
   "outputs": [
    {
     "data": {
      "text/plain": [
       "array([0.  , 0.01, 0.02, 0.03, 0.04, 0.05, 0.06, 0.07, 0.08, 0.09, 0.1 ,\n",
       "       0.11, 0.12, 0.13, 0.14, 0.15, 0.16, 0.17, 0.18, 0.19, 0.2 , 0.21,\n",
       "       0.22, 0.23, 0.24, 0.25, 0.26, 0.27, 0.28, 0.29, 0.3 , 0.31, 0.32,\n",
       "       0.33, 0.34, 0.35, 0.36, 0.37, 0.38, 0.39, 0.4 , 0.41, 0.42, 0.43,\n",
       "       0.44, 0.45, 0.46, 0.47, 0.48, 0.49, 0.5 , 0.51, 0.52, 0.53, 0.54,\n",
       "       0.55, 0.56, 0.57, 0.58, 0.59, 0.6 , 0.61, 0.62, 0.63, 0.64, 0.65,\n",
       "       0.66, 0.67, 0.68, 0.69, 0.7 , 0.71, 0.72, 0.73, 0.74, 0.75, 0.76,\n",
       "       0.77, 0.78, 0.79, 0.8 , 0.81, 0.82, 0.83, 0.84, 0.85, 0.86, 0.87,\n",
       "       0.88, 0.89, 0.9 , 0.91, 0.92, 0.93, 0.94, 0.95, 0.96, 0.97, 0.98,\n",
       "       0.99, 1.  ])"
      ]
     },
     "execution_count": 43,
     "metadata": {},
     "output_type": "execute_result"
    }
   ],
   "source": [
    "# Generate a sequence 0.00, 0.01, ..., 0.98, 0.99, 1.00\n",
    "# Recall np.arange(start, stop, step) allows floats!\n",
    "np.arange(0.0, 1.01, 0.01)"
   ]
  },
  {
   "cell_type": "code",
   "execution_count": 44,
   "id": "e166f3b4",
   "metadata": {},
   "outputs": [
    {
     "data": {
      "text/plain": [
       "array([0.  , 0.01, 0.02, 0.03, 0.04, 0.05, 0.06, 0.07, 0.08, 0.09, 0.1 ,\n",
       "       0.11, 0.12, 0.13, 0.14, 0.15, 0.16, 0.17, 0.18, 0.19, 0.2 , 0.21,\n",
       "       0.22, 0.23, 0.24, 0.25, 0.26, 0.27, 0.28, 0.29, 0.3 , 0.31, 0.32,\n",
       "       0.33, 0.34, 0.35, 0.36, 0.37, 0.38, 0.39, 0.4 , 0.41, 0.42, 0.43,\n",
       "       0.44, 0.45, 0.46, 0.47, 0.48, 0.49, 0.5 , 0.51, 0.52, 0.53, 0.54,\n",
       "       0.55, 0.56, 0.57, 0.58, 0.59, 0.6 , 0.61, 0.62, 0.63, 0.64, 0.65,\n",
       "       0.66, 0.67, 0.68, 0.69, 0.7 , 0.71, 0.72, 0.73, 0.74, 0.75, 0.76,\n",
       "       0.77, 0.78, 0.79, 0.8 , 0.81, 0.82, 0.83, 0.84, 0.85, 0.86, 0.87,\n",
       "       0.88, 0.89, 0.9 , 0.91, 0.92, 0.93, 0.94, 0.95, 0.96, 0.97, 0.98,\n",
       "       0.99, 1.  ])"
      ]
     },
     "execution_count": 44,
     "metadata": {},
     "output_type": "execute_result"
    }
   ],
   "source": [
    "# Generate the same sequence [0.00, 0.01, ..., 0.99, 1.00] using the\n",
    "# np.linspace(start, stop, num) function\n",
    "np.linspace(0, 1, 101)"
   ]
  },
  {
   "cell_type": "markdown",
   "id": "12922148",
   "metadata": {},
   "source": [
    "We can also index into arrays by conditional statements, as follows\n",
    "(note this is related to the `np.where` functions from before):"
   ]
  },
  {
   "cell_type": "code",
   "execution_count": 45,
   "id": "be5b6d99",
   "metadata": {},
   "outputs": [
    {
     "data": {
      "text/plain": [
       "array([5., 6., 7., 8., 9.])"
      ]
     },
     "execution_count": 45,
     "metadata": {},
     "output_type": "execute_result"
    }
   ],
   "source": [
    "arange[arange > 4]"
   ]
  },
  {
   "cell_type": "code",
   "execution_count": 46,
   "id": "cc617bda",
   "metadata": {},
   "outputs": [
    {
     "data": {
      "text/plain": [
       "array([0., 1., 2., 3., 4.])"
      ]
     },
     "execution_count": 46,
     "metadata": {},
     "output_type": "execute_result"
    }
   ],
   "source": [
    "arange[~(arange > 4)]"
   ]
  },
  {
   "cell_type": "markdown",
   "id": "90c37cc2",
   "metadata": {},
   "source": [
    "### Stacking data\n",
    "\n",
    "The last major thing to do with arrays is to stack them in various ways.\n",
    "There are several functions for doing this. I personally like to stick\n",
    "to `np.concatenate` when I want to extend one array with another, and \n",
    "`np.stack` if I want to do anything else."
   ]
  },
  {
   "cell_type": "code",
   "execution_count": 47,
   "id": "5a78d52c",
   "metadata": {},
   "outputs": [
    {
     "name": "stdout",
     "output_type": "stream",
     "text": [
      "(40,)\n"
     ]
    },
    {
     "data": {
      "text/plain": [
       "array([0.        , 0.05263158, 0.10526316, 0.15789474, 0.21052632,\n",
       "       0.26315789, 0.31578947, 0.36842105, 0.42105263, 0.47368421,\n",
       "       0.52631579, 0.57894737, 0.63157895, 0.68421053, 0.73684211,\n",
       "       0.78947368, 0.84210526, 0.89473684, 0.94736842, 1.        ,\n",
       "       0.        , 0.05263158, 0.10526316, 0.15789474, 0.21052632,\n",
       "       0.26315789, 0.31578947, 0.36842105, 0.42105263, 0.47368421,\n",
       "       0.52631579, 0.57894737, 0.63157895, 0.68421053, 0.73684211,\n",
       "       0.78947368, 0.84210526, 0.89473684, 0.94736842, 1.        ])"
      ]
     },
     "execution_count": 47,
     "metadata": {},
     "output_type": "execute_result"
    }
   ],
   "source": [
    "x = np.linspace(0, 1, 20)\n",
    "concat = np.concatenate([x, x])\n",
    "print(concat.shape)\n",
    "\n",
    "concat"
   ]
  },
  {
   "cell_type": "code",
   "execution_count": 48,
   "id": "49a2a1b1",
   "metadata": {},
   "outputs": [
    {
     "name": "stdout",
     "output_type": "stream",
     "text": [
      "(2, 20)\n"
     ]
    },
    {
     "data": {
      "text/plain": [
       "array([[0.        , 0.05263158, 0.10526316, 0.15789474, 0.21052632,\n",
       "        0.26315789, 0.31578947, 0.36842105, 0.42105263, 0.47368421,\n",
       "        0.52631579, 0.57894737, 0.63157895, 0.68421053, 0.73684211,\n",
       "        0.78947368, 0.84210526, 0.89473684, 0.94736842, 1.        ],\n",
       "       [0.        , 0.05263158, 0.10526316, 0.15789474, 0.21052632,\n",
       "        0.26315789, 0.31578947, 0.36842105, 0.42105263, 0.47368421,\n",
       "        0.52631579, 0.57894737, 0.63157895, 0.68421053, 0.73684211,\n",
       "        0.78947368, 0.84210526, 0.89473684, 0.94736842, 1.        ]])"
      ]
     },
     "execution_count": 48,
     "metadata": {},
     "output_type": "execute_result"
    }
   ],
   "source": [
    "vstack = np.stack([x, x], axis=0)\n",
    "print(vstack.shape)\n",
    "vstack"
   ]
  },
  {
   "cell_type": "code",
   "execution_count": 49,
   "id": "1da96347",
   "metadata": {},
   "outputs": [
    {
     "name": "stdout",
     "output_type": "stream",
     "text": [
      "(20, 2)\n"
     ]
    },
    {
     "data": {
      "text/plain": [
       "array([[0.        , 0.        ],\n",
       "       [0.05263158, 0.05263158],\n",
       "       [0.10526316, 0.10526316],\n",
       "       [0.15789474, 0.15789474],\n",
       "       [0.21052632, 0.21052632],\n",
       "       [0.26315789, 0.26315789],\n",
       "       [0.31578947, 0.31578947],\n",
       "       [0.36842105, 0.36842105],\n",
       "       [0.42105263, 0.42105263],\n",
       "       [0.47368421, 0.47368421],\n",
       "       [0.52631579, 0.52631579],\n",
       "       [0.57894737, 0.57894737],\n",
       "       [0.63157895, 0.63157895],\n",
       "       [0.68421053, 0.68421053],\n",
       "       [0.73684211, 0.73684211],\n",
       "       [0.78947368, 0.78947368],\n",
       "       [0.84210526, 0.84210526],\n",
       "       [0.89473684, 0.89473684],\n",
       "       [0.94736842, 0.94736842],\n",
       "       [1.        , 1.        ]])"
      ]
     },
     "execution_count": 49,
     "metadata": {},
     "output_type": "execute_result"
    }
   ],
   "source": [
    "hstack = np.stack([x, x], axis=1)\n",
    "print(hstack.shape)\n",
    "hstack"
   ]
  },
  {
   "cell_type": "markdown",
   "id": "d51521f8",
   "metadata": {},
   "source": [
    "Or use these, but it's simpler to remember one function than it is to remember two or\n",
    "three, so I prefer stack with an argument about how I want to stack things.\n",
    "\n",
    "```python\n",
    "vstack = np.vstack([x, x])\n",
    "hstack = np.hstack([x[:, None], x[:, None]])\n",
    "```"
   ]
  },
  {
   "cell_type": "markdown",
   "id": "17894f16",
   "metadata": {},
   "source": [
    "## Random Numbers"
   ]
  },
  {
   "cell_type": "markdown",
   "id": "ad17dd74",
   "metadata": {},
   "source": [
    "We present this module next because it is imperative to generating data in the\n",
    "subsequent sections, so that we can work on less contrived examples than the ones we\n",
    "have already seen."
   ]
  },
  {
   "cell_type": "markdown",
   "id": "deaad56e",
   "metadata": {},
   "source": [
    "### Random Seeds\n",
    "\n",
    "We don't have to set random seeds, but it makes our analysis reproducible if we\n",
    "implement something and want it to run deterministically. Everything we explore today\n",
    "will be seeded. \n",
    "\n",
    "The right practice is to set seeds once at the start of a program and\n",
    "then execute the program sequentially from start to finish. You will notice if you run\n",
    "cells multiple times after setting the seed that the results become apparently random.\n",
    "This is one of the primary reasons to strive for running stuff in scripts rather than\n",
    "jupyter notebooks. That is a point that will be difficult to get across by the end of\n",
    "the workshop, but it is one to consider if you continue to work in Python after this\n",
    "workshop. For today, however, we are going to work in Jupyter notebooks because they\n",
    "are interactive and nice for exploratory work.\n",
    "\n",
    "The seed itself could be lots of things, including an empty argument. I always start\n",
    "with a concrete value... Most of my test scripts start with seed 0. If you want to\n",
    "have random but reproducible behavior, a better seed is to just grab the system time\n",
    "in nanoseconds at program startup, like this:"
   ]
  },
  {
   "cell_type": "code",
   "execution_count": 50,
   "id": "d28cc094",
   "metadata": {},
   "outputs": [
    {
     "name": "stdout",
     "output_type": "stream",
     "text": [
      "seed = 1757836158096203393, (in hex: 0x186516ac20a95e81)\n"
     ]
    }
   ],
   "source": [
    "# Get time in nanoseconds\n",
    "seed = time.time_ns()\n",
    "\n",
    "# Print the seed (decimal and hex)\n",
    "print(f\"{seed = }, (in hex: 0x{seed:x})\")\n",
    "\n",
    "rng = np.random.default_rng(seed)"
   ]
  },
  {
   "cell_type": "markdown",
   "id": "fe54c81d",
   "metadata": {},
   "source": [
    "**But don't forget to save it when you're done!**\n",
    "\n",
    "\n",
    "If we save that seed someplace then we can always reconstruct the program's execution\n",
    "using the seeded value. This is *immensely* helpful for debugging programs that rely\n",
    "on random number generation!\n",
    "\n",
    "The random number generator supports generating all kinds of different distributions.\n",
    "Here are some of them:"
   ]
  },
  {
   "cell_type": "code",
   "execution_count": 51,
   "id": "7497c2a4",
   "metadata": {},
   "outputs": [
    {
     "data": {
      "image/png": "[encoded data removed]",
      "text/plain": [
       "<Figure size 1200x300 with 3 Axes>"
      ]
     },
     "metadata": {},
     "output_type": "display_data"
    }
   ],
   "source": [
    "# Make three subplots with shape (1, 3), a large enough figsize to plot, and constrained layout\n",
    "fig, ax = plt.subplots(1, 3, figsize=(12, 3), layout=\"constrained\")\n",
    "\n",
    "# Generate 500 normal rvs and plot in ax[0]\n",
    "normal_rvs = rng.normal(loc=0.0, scale=1.0, size=(500,))\n",
    "ax[0].hist(normal_rvs, density=True, edgecolor=\"C0\", facecolor=\"lightblue\")\n",
    "ax[0].set_title(\"X ~ N(0, 1)\")\n",
    "\n",
    "# Generate 500 uniform rvs and plot in ax[1]\n",
    "uniform_rvs = rng.uniform(low=0.0, high=1.0, size=(500,))\n",
    "ax[1].hist(uniform_rvs, density=True, edgecolor=\"C0\", facecolor=\"lightblue\")\n",
    "ax[1].set_title(\"Y ~ U(0, 1)\")\n",
    "\n",
    "# Generate 500 gamma rvs with shape 5.0 and scale 3.0 and plot in ax[2]\n",
    "gamma_rvs = rng.gamma(shape=5.0, scale=3.0, size=(500,))\n",
    "ax[2].hist(gamma_rvs, density=True, edgecolor=\"C0\", facecolor=\"lightblue\")\n",
    "ax[2].set_title(\"Z ~ Gamma(5.0, 3.0)\")\n",
    "\n",
    "# Show the results\n",
    "plt.show()"
   ]
  },
  {
   "cell_type": "markdown",
   "id": "46eb7b91",
   "metadata": {},
   "source": [
    "There are also great helpers for randomly permuting data, like so:"
   ]
  },
  {
   "cell_type": "code",
   "execution_count": 52,
   "id": "ce4e5c02",
   "metadata": {},
   "outputs": [
    {
     "name": "stdout",
     "output_type": "stream",
     "text": [
      "[ 0.74266433  0.98824206 -2.52145378 -0.42764955  0.75958013  0.33286784\n",
      " -1.14579248 -0.63965492 -0.23746873 -0.22909381]\n",
      "[-2.52145378 -0.63965492 -0.42764955 -1.14579248 -0.22909381  0.74266433\n",
      "  0.98824206 -0.23746873  0.33286784  0.75958013]\n"
     ]
    }
   ],
   "source": [
    "# permute `normal_rvs[:10]`\n",
    "normal_rvs_perm = rng.permutation(normal_rvs[:10], axis=0)\n",
    "\n",
    "# Compare the two vectors\n",
    "print(normal_rvs[:10])\n",
    "print(normal_rvs_perm[:10])"
   ]
  },
  {
   "cell_type": "markdown",
   "id": "323f47c9",
   "metadata": {},
   "source": [
    "If we wanted to permute *all* of our data by the same index, we could also\n",
    "generate the permutation over the index 0..500:"
   ]
  },
  {
   "cell_type": "code",
   "execution_count": 53,
   "id": "7a5aca0b",
   "metadata": {},
   "outputs": [
    {
     "data": {
      "text/plain": [
       "array([17, 18, 14,  5,  9,  6,  2, 11, 10, 12,  4, 15, 16,  3,  1, 13,  7,\n",
       "        8,  0, 19])"
      ]
     },
     "execution_count": 53,
     "metadata": {},
     "output_type": "execute_result"
    }
   ],
   "source": [
    "# Generate a permutation array\n",
    "permutation = rng.permutation(20)\n",
    "permutation"
   ]
  },
  {
   "cell_type": "markdown",
   "id": "d9f5e07a",
   "metadata": {},
   "source": [
    "Now we could reindex all three vectors by this index. This is great for data splitting in several machine learning contexts.\n",
    "\n",
    "A similar choice for doing the same thing is to use `rng.choice` (`np.random.choice`). The benefit of `rng.choice` is that it \n",
    "allows you to set the probability of drawing each datum and it allows repeated draws of the same data. Bootstrapped confidence\n",
    "are an example of where this is good to know."
   ]
  },
  {
   "cell_type": "code",
   "execution_count": 54,
   "id": "02115455",
   "metadata": {},
   "outputs": [
    {
     "name": "stdout",
     "output_type": "stream",
     "text": [
      "[18  5  0 10  4  2  6 13  9  7]\n"
     ]
    }
   ],
   "source": [
    "# Generate a sample using rng.choice\n",
    "sample_idx = rng.choice(20, size=10, replace=False)\n",
    "print(sample_idx)"
   ]
  },
  {
   "cell_type": "markdown",
   "id": "7e3069be",
   "metadata": {},
   "source": [
    "As with the permutations, we can also just shuffle data in this way directly:"
   ]
  },
  {
   "cell_type": "code",
   "execution_count": 55,
   "id": "23996dac",
   "metadata": {},
   "outputs": [
    {
     "data": {
      "image/png": "[encoded data removed]",
      "text/plain": [
       "<Figure size 640x480 with 1 Axes>"
      ]
     },
     "metadata": {},
     "output_type": "display_data"
    }
   ],
   "source": [
    "# Resample the data using rng.choice\n",
    "normal_rvs_sample = rng.choice(normal_rvs[:20], size=30, replace=True)\n",
    "\n",
    "plt.plot(normal_rvs[:20], \".\")\n",
    "plt.plot(normal_rvs_sample, \".\")\n",
    "plt.show()"
   ]
  },
  {
   "cell_type": "markdown",
   "id": "a7634a88",
   "metadata": {},
   "source": [
    "And if what we want to do is genuinely randomizing the order of data, we can\n",
    "call `rng.shuffle` (`np.random.shuffle`):"
   ]
  },
  {
   "cell_type": "code",
   "execution_count": 56,
   "id": "c506b1f1",
   "metadata": {},
   "outputs": [
    {
     "data": {
      "text/plain": [
       "array([ 3, 10, 50,  6, 16, 32, 17, 34, 22, 15, 23, 25,  4, 43, 14, 47,  5,\n",
       "       27,  7, 33, 41, 24, 31, 45,  8, 42, 19, 44, 48, 11, 18, 28, 46, 12,\n",
       "       37, 52,  9, 21, 13, 20, 40, 38, 39, 51, 30, 29, 35,  1, 26,  2, 49,\n",
       "       36])"
      ]
     },
     "execution_count": 56,
     "metadata": {},
     "output_type": "execute_result"
    }
   ],
   "source": [
    "# Simulate a deck of cards:\n",
    "deck = np.arange(52) + 1\n",
    "\n",
    "# Shuffle the deck (done in place rather than returning a copy):\n",
    "rng.shuffle(deck)\n",
    "\n",
    "# Print\n",
    "deck"
   ]
  },
  {
   "cell_type": "markdown",
   "id": "9e55da9d",
   "metadata": {},
   "source": [
    "## Functions"
   ]
  },
  {
   "cell_type": "markdown",
   "id": "08b4cf0b",
   "metadata": {},
   "source": [
    "We have already seen several functions. This is a short tour of the more obvious ones that we\n",
    "didn't cover yet."
   ]
  },
  {
   "cell_type": "markdown",
   "id": "108855ff",
   "metadata": {},
   "source": [
    "### Reductions and Summary Statistics\n",
    "\n",
    "Since we just looked at random data, let's start the overview of functions by looking at \n",
    "summary statistics."
   ]
  },
  {
   "cell_type": "code",
   "execution_count": 57,
   "id": "a68fc07d",
   "metadata": {},
   "outputs": [],
   "source": [
    "# Generate X ~ N(0, 1) with size (100, 30, 5)\n",
    "x = rng.normal(size=(100, 30, 5))"
   ]
  },
  {
   "cell_type": "markdown",
   "id": "9b40a3a3",
   "metadata": {},
   "source": [
    "To start, some functions are bound to the variables we are working with. For example,\n",
    "we can calculate the mean, variance (var), standard deviation (std), minimum (min),\n",
    "maximum (max), index of the min (argmin), and index of the max (argmax) using those\n",
    "functions bound to the numpy namespace _or_ bound to the array objects themselves."
   ]
  },
  {
   "cell_type": "code",
   "execution_count": 58,
   "id": "f2723102",
   "metadata": {},
   "outputs": [
    {
     "name": "stdout",
     "output_type": "stream",
     "text": [
      "np.mean(x)=-0.00544 == x.mean()=-0.00544\n"
     ]
    }
   ],
   "source": [
    "print(f\"{np.mean(x)=:.5f} == {x.mean()=:.5f}\")"
   ]
  },
  {
   "cell_type": "code",
   "execution_count": 59,
   "id": "1cd2156d",
   "metadata": {},
   "outputs": [
    {
     "name": "stdout",
     "output_type": "stream",
     "text": [
      "np.var(x)=0.98534 == x.var()=0.98534\n"
     ]
    }
   ],
   "source": [
    "print(f\"{np.var(x)=:.5f} == {x.var()=:.5f}\")"
   ]
  },
  {
   "cell_type": "code",
   "execution_count": 60,
   "id": "10549827",
   "metadata": {},
   "outputs": [
    {
     "name": "stdout",
     "output_type": "stream",
     "text": [
      "np.std(x)=0.99264 == x.std()=0.99264\n"
     ]
    }
   ],
   "source": [
    "print(f\"{np.std(x)=:.5f} == {x.std()=:.5f}\")"
   ]
  },
  {
   "cell_type": "code",
   "execution_count": 61,
   "id": "da955b1a",
   "metadata": {},
   "outputs": [
    {
     "name": "stdout",
     "output_type": "stream",
     "text": [
      "np.min(x)=-3.54221 == x.min()=-3.54221\n"
     ]
    }
   ],
   "source": [
    "print(f\"{np.min(x)=:.5f} == {x.min()=:.5f}\")"
   ]
  },
  {
   "cell_type": "code",
   "execution_count": 62,
   "id": "1f77c6e9",
   "metadata": {},
   "outputs": [
    {
     "name": "stdout",
     "output_type": "stream",
     "text": [
      "np.max(x)=3.88767 == x.max()=3.88767\n"
     ]
    }
   ],
   "source": [
    "print(f\"{np.max(x)=:.5f} == {x.max()=:.5f}\")"
   ]
  },
  {
   "cell_type": "code",
   "execution_count": 63,
   "id": "d607ff1d",
   "metadata": {},
   "outputs": [
    {
     "name": "stdout",
     "output_type": "stream",
     "text": [
      "np.argmin(x)=4557.00000 == x.argmin()=4557.00000\n"
     ]
    }
   ],
   "source": [
    "print(f\"{np.argmin(x)=:.5f} == {x.argmin()=:.5f}\")"
   ]
  },
  {
   "cell_type": "code",
   "execution_count": 64,
   "id": "195cadcf",
   "metadata": {},
   "outputs": [
    {
     "name": "stdout",
     "output_type": "stream",
     "text": [
      "np.argmax(x)=5983.00000 == x.argmax()=5983.00000\n"
     ]
    }
   ],
   "source": [
    "print(f\"{np.argmax(x)=:.5f} == {x.argmax()=:.5f}\")"
   ]
  },
  {
   "cell_type": "markdown",
   "id": "51dac398",
   "metadata": {},
   "source": [
    "We can also apply these functions over specific axes. This operation will reduce the\n",
    "shape of the array along that dimension, which is avoidable if we use `keepdims=True`.\n",
    "Often that is unnecessary."
   ]
  },
  {
   "cell_type": "code",
   "execution_count": 65,
   "id": "3d63236b",
   "metadata": {},
   "outputs": [
    {
     "name": "stdout",
     "output_type": "stream",
     "text": [
      "Calculating means for x.shape=(100, 30, 5) along different axes\n",
      "np.mean(x, axis=0).shape=(30, 5),\n",
      "np.mean(x, axis=1).shape=(100, 5),\n",
      "np.mean(x, axis=2).shape=(100, 30)\n"
     ]
    }
   ],
   "source": [
    "# Calculate summary stats along different axes and note the shapes/values\n",
    "print(f\"Calculating means for {x.shape=} along different axes\")\n",
    "print(\n",
    "    f\"{np.mean(x, axis=0).shape=},\\n{np.mean(x, axis=1).shape=},\\n{np.mean(x, axis=2).shape=}\"\n",
    ")"
   ]
  },
  {
   "cell_type": "markdown",
   "id": "7f3db111",
   "metadata": {},
   "source": [
    "### Other functions"
   ]
  },
  {
   "cell_type": "markdown",
   "id": "99ec9941",
   "metadata": {},
   "source": [
    "But statistics aren't the only functions we may want to compute. Here is a plot of\n",
    "sines, cosines, polynomials, and some of the other things you may generally want."
   ]
  },
  {
   "cell_type": "code",
   "execution_count": 66,
   "id": "d3bb1553",
   "metadata": {},
   "outputs": [
    {
     "data": {
      "image/png": "[encoded data removed]",
      "text/plain": [
       "<Figure size 800x400 with 8 Axes>"
      ]
     },
     "metadata": {},
     "output_type": "display_data"
    }
   ],
   "source": [
    "# define x on (0, 8] with 100 valus\n",
    "x = np.linspace(1e-16, 8.0, 100)\n",
    "\n",
    "# Make a 2,4 array of subplots:\n",
    "fig, axes = plt.subplots(2, 4, figsize=(8, 4), layout=\"constrained\", sharex=True)\n",
    "ax = axes.flatten()\n",
    "\n",
    "# sin(x)\n",
    "ax[0].plot(x, np.sin(x))\n",
    "ax[0].set_title(\"sin(x)\")\n",
    "\n",
    "# cos(x)\n",
    "ax[1].plot(x, np.cos(x))\n",
    "ax[1].set_title(\"cos(x)\")\n",
    "\n",
    "# tan(x)\n",
    "ax[2].plot(x, np.tan(x))\n",
    "ax[2].set_title(\"tan(x)\")\n",
    "\n",
    "# square(x)\n",
    "ax[3].plot(x, np.square(x))\n",
    "ax[3].set_title(\"$x^2$\")\n",
    "\n",
    "# cube(x)\n",
    "ax[4].plot(x, x**3)\n",
    "ax[4].set_title(\"$x^3$\")\n",
    "\n",
    "# sqrt(x)\n",
    "ax[5].plot(x, np.sqrt(x))\n",
    "ax[5].set_title(\"$\\\\sqrt{x}$\")\n",
    "\n",
    "# log(x)\n",
    "ax[6].plot(x, np.log(x))\n",
    "ax[6].set_title(\"log(x)\")\n",
    "\n",
    "# exp(x)\n",
    "ax[7].plot(x, np.exp(x))\n",
    "ax[7].set_title(\"exp(x)\")\n",
    "\n",
    "fig.suptitle(\"A Sample of Numpy functions to calculate\")\n",
    "plt.show()\n"
   ]
  },
  {
   "cell_type": "markdown",
   "id": "d51b2f26",
   "metadata": {},
   "source": [
    "And of course, all of the other operations you'd expect to work do work. They operate element-wise on data:"
   ]
  },
  {
   "cell_type": "code",
   "execution_count": 67,
   "id": "605e9a24",
   "metadata": {},
   "outputs": [
    {
     "data": {
      "text/plain": [
       "array([2.        , 2.60201453, 3.09018819, 3.64041107, 4.18012236])"
      ]
     },
     "execution_count": 67,
     "metadata": {},
     "output_type": "execute_result"
    }
   ],
   "source": [
    "x = np.linspace(0, 1, 5)\n",
    "y = np.sin(x)\n",
    "\n",
    "np.sqrt(x) + 5 * y**2 / 3 + 2"
   ]
  },
  {
   "cell_type": "markdown",
   "id": "65172e9d",
   "metadata": {},
   "source": [
    "## Linear Algebra"
   ]
  },
  {
   "cell_type": "markdown",
   "id": "7a2c2593",
   "metadata": {},
   "source": [
    "And now for the thing Numpy really shines at (other than random number generation), linear algebra!"
   ]
  },
  {
   "cell_type": "markdown",
   "id": "e7967859",
   "metadata": {},
   "source": [
    "We can warm up with the dot product:\n",
    "$$\n",
    "    \\langle u, v \\rangle = u \\cdot v = \\sum_{k=1}^{n} u_i v_i.\n",
    "$$"
   ]
  },
  {
   "cell_type": "code",
   "execution_count": 68,
   "id": "5d87fc50",
   "metadata": {},
   "outputs": [
    {
     "data": {
      "text/plain": [
       "np.float64(1.383755864579626)"
      ]
     },
     "execution_count": 68,
     "metadata": {},
     "output_type": "execute_result"
    }
   ],
   "source": [
    "# Generate u, v ~ N(0, 1) of size 30\n",
    "u, v = rng.normal(size=(2, 30))\n",
    "np.dot(u, v)"
   ]
  },
  {
   "cell_type": "markdown",
   "id": "2770f6a5",
   "metadata": {},
   "source": [
    "Next we can solve linear systems of the form $A x = b$. Consider the system\n",
    "$$\n",
    "    \\begin{bmatrix}\n",
    "        0 & 1 & 2 \\\\\n",
    "        1 & 4 & 2 \\\\\n",
    "        2 & 1 & 1 \\\\\n",
    "    \\end{bmatrix}\n",
    "    x = \n",
    "    \\begin{bmatrix}\n",
    "        8 \\\\ 15 \\\\ 7\n",
    "    \\end{bmatrix}.\n",
    "$$\n",
    "We'd like to solve this for $x$. The function `np.linalg.solve` does this for us straight away using an LU solve\n",
    "under the hood."
   ]
  },
  {
   "cell_type": "code",
   "execution_count": 69,
   "id": "bc9f9cd5",
   "metadata": {},
   "outputs": [
    {
     "data": {
      "text/plain": [
       "(array([[0, 1, 2],\n",
       "        [1, 4, 2],\n",
       "        [2, 1, 1]]),\n",
       " array([1, 2, 3]),\n",
       " array([ 8, 15,  7]))"
      ]
     },
     "execution_count": 69,
     "metadata": {},
     "output_type": "execute_result"
    }
   ],
   "source": [
    "A = np.array(\n",
    "    [\n",
    "        [0, 1, 2],\n",
    "        [1, 4, 2],\n",
    "        [2, 1, 1],\n",
    "    ],\n",
    ")\n",
    "x = np.array([1, 2, 3])\n",
    "b = np.dot(A, x)\n",
    "\n",
    "A, x, b"
   ]
  },
  {
   "cell_type": "code",
   "execution_count": 70,
   "id": "c10b4322",
   "metadata": {},
   "outputs": [
    {
     "name": "stdout",
     "output_type": "stream",
     "text": [
      "||x_solved - x|| = 0.0000\n"
     ]
    }
   ],
   "source": [
    "x_solved = np.linalg.solve(A, b)\n",
    "print(f\"||x_solved - x|| = {np.linalg.norm(x_solved - x):.4f}\")"
   ]
  },
  {
   "cell_type": "markdown",
   "id": "45e1f68d",
   "metadata": {},
   "source": [
    "Some of you will have problems where the matrix has special structure (whether\n",
    "you are initially aware of this or not). When such structure does exist, you can often\n",
    "exploit it in the solver you are using. For example, here is a circulant embeddings\n",
    "matrix. "
   ]
  },
  {
   "cell_type": "code",
   "execution_count": 71,
   "id": "81a4872b",
   "metadata": {},
   "outputs": [],
   "source": [
    "A = linalg.circulant(np.arange(500))\n",
    "x = rng.normal(size=A.shape[0])\n",
    "b = np.dot(A, x)"
   ]
  },
  {
   "cell_type": "markdown",
   "id": "6aef11aa",
   "metadata": {},
   "source": [
    "Now let's compare the time it takes to solve these using the generalized `np.linalg.solve` versus Scipy's \n",
    "specialized `scipy.linalg.solve_circulant`. "
   ]
  },
  {
   "cell_type": "code",
   "execution_count": 72,
   "id": "23d21454",
   "metadata": {},
   "outputs": [
    {
     "name": "stdout",
     "output_type": "stream",
     "text": [
      "3.39 ms ± 6.36 μs per loop (mean ± std. dev. of 7 runs, 100 loops each)\n"
     ]
    }
   ],
   "source": [
    "%%timeit\n",
    "\n",
    "# Solve with np.linalg.solve\n",
    "linalg.solve(A, b)"
   ]
  },
  {
   "cell_type": "code",
   "execution_count": 73,
   "id": "40fd430e",
   "metadata": {},
   "outputs": [
    {
     "name": "stdout",
     "output_type": "stream",
     "text": [
      "26 μs ± 631 ns per loop (mean ± std. dev. of 7 runs, 10,000 loops each)\n"
     ]
    }
   ],
   "source": [
    "%%timeit \n",
    "\n",
    "# Solve with linalg.solve_circulant. \n",
    "# NOTE: solve_circulant uses the first column of A only with signature\n",
    "# linalg.solve_circulant(c, b)\n",
    "linalg.solve_circulant(A[:, 0], b)"
   ]
  },
  {
   "cell_type": "markdown",
   "id": "76eba637",
   "metadata": {},
   "source": [
    "That's roughly a 10x speedup!"
   ]
  },
  {
   "cell_type": "markdown",
   "id": "4504cf2f",
   "metadata": {},
   "source": [
    "### Matrix Decompositions\n",
    "\n",
    "There are several decompositions that are also supported in np.linalg and scipy.linalg\n",
    "(imported as `from scipy import linalg`). Some of these that are common to least\n",
    "squares problems are shown in `./ols.py`. Others we don't cover are the SVD and\n",
    "eigen decompositions. These would be most relevant to PCA. However, good\n",
    "implementations of these are typically provided in scikit-learn also via\n",
    "`sklearn.decomposition`. Consider having a look at those if you are planning to do PCA\n",
    "in your research."
   ]
  }
 ],
 "metadata": {
  "kernelspec": {
   "display_name": "tamu-osos-2025",
   "language": "python",
   "name": "python3"
  },
  "language_info": {
   "codemirror_mode": {
    "name": "ipython",
    "version": 3
   },
   "file_extension": ".py",
   "mimetype": "text/x-python",
   "name": "python",
   "nbconvert_exporter": "python",
   "pygments_lexer": "ipython3",
   "version": "3.10.18"
  }
 },
 "nbformat": 4,
 "nbformat_minor": 5
}
